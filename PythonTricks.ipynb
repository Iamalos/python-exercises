{
 "cells": [
  {
   "cell_type": "markdown",
   "id": "9d9f1d21-7269-43d9-a69b-e5a021308a99",
   "metadata": {},
   "source": [
    "# Chapter 2. Patterns for cleaner Python"
   ]
  },
  {
   "cell_type": "markdown",
   "id": "d0bf6821-c733-4a96-9410-27bfdc44cff2",
   "metadata": {},
   "source": [
    "## Assertions"
   ]
  },
  {
   "cell_type": "code",
   "execution_count": 8,
   "id": "658d51d8-8be8-48aa-8792-fb8c31244e4f",
   "metadata": {},
   "outputs": [
    {
     "ename": "AssertionError",
     "evalue": "error, buddy",
     "output_type": "error",
     "traceback": [
      "\u001b[0;31m---------------------------------------------------------------------------\u001b[0m",
      "\u001b[0;31mAssertionError\u001b[0m                            Traceback (most recent call last)",
      "Cell \u001b[0;32mIn[8], line 2\u001b[0m\n\u001b[1;32m      1\u001b[0m \u001b[38;5;66;03m#| error: false\u001b[39;00m\n\u001b[0;32m----> 2\u001b[0m \u001b[38;5;28;01massert\u001b[39;00m \u001b[38;5;241m1\u001b[39m\u001b[38;5;241m==\u001b[39m\u001b[38;5;241m2\u001b[39m, \u001b[38;5;124m\"\u001b[39m\u001b[38;5;124merror, buddy\u001b[39m\u001b[38;5;124m\"\u001b[39m\n",
      "\u001b[0;31mAssertionError\u001b[0m: error, buddy"
     ]
    }
   ],
   "source": [
    "#| error: false\n",
    "assert 1==2, \"error, buddy\""
   ]
  },
  {
   "cell_type": "markdown",
   "id": "9f5679e5-1355-4ecd-b242-cb8c44cd4e97",
   "metadata": {},
   "source": [
    "### Caveats with assertions"
   ]
  },
  {
   "cell_type": "markdown",
   "id": "b936f484-6509-4a93-ac02-e1b997f22472",
   "metadata": {},
   "source": [
    "__Caveat 1__ <br>\n",
    "The biggest caveat with using asserts in Python is that assertions can be globally disabled3 with the -O and -OO command line switches, as well as the PYTHONOPTIMIZE environment variable in CPython. This means that we should not use asserts for data validation:\n",
    "\n",
    "```python\n",
    "def delete_product(prod_id, user):\n",
    "    assert user.is_admin(), 'Must be admin'\n",
    "    assert store.has_product(prod_id), 'Unknown product'\n",
    "    store.get_product(prod_id).delete()\n",
    "\n",
    "```\n",
    "\n",
    "If assertions are disabled, those two lines above will not run, which can lead to malicious attacks and bugs."
   ]
  },
  {
   "cell_type": "markdown",
   "id": "f6841f0f-86ee-4d3f-a745-71bcdb9e9c98",
   "metadata": {},
   "source": [
    "__Caveat 2__. Assertions s that never fail. If you pass a tuple to an assert statement, it leads to the assert condition always being true—which in turn leads to the above assert statement being useless because it can never fail and trigger an exception.\n",
    "\n",
    "```python\n",
    "assert (\n",
    "    counter == 10,\n",
    "    'It should have counted all the items'\n",
    ")\n",
    "\n",
    "```"
   ]
  },
  {
   "cell_type": "code",
   "execution_count": 9,
   "id": "15afacaf-4ed8-42f3-b3a4-600afc26ec12",
   "metadata": {
    "collapsed": true,
    "jupyter": {
     "outputs_hidden": true
    }
   },
   "outputs": [
    {
     "name": "stderr",
     "output_type": "stream",
     "text": [
      "<>:1: SyntaxWarning: assertion is always true, perhaps remove parentheses?\n",
      "<>:1: SyntaxWarning: assertion is always true, perhaps remove parentheses?\n",
      "/tmp/ipykernel_4680/257202358.py:1: SyntaxWarning: assertion is always true, perhaps remove parentheses?\n",
      "  assert (1==2, \"error, buddy\")\n"
     ]
    }
   ],
   "source": [
    "assert (1==2, \"error, buddy\")"
   ]
  },
  {
   "cell_type": "markdown",
   "id": "3c094eeb-ca14-4b43-9e19-8b65bec89722",
   "metadata": {},
   "source": [
    "## Context Managers and the `with` Statements"
   ]
  },
  {
   "cell_type": "markdown",
   "id": "aabd7827-f46d-4742-bbcb-20dc161251a4",
   "metadata": {},
   "source": [
    "To use a context manager all you need to do is add `__enter__` and `__exit__` methods to an object. Python will call these two methods at the appropriate times in the resource management cycle.\n"
   ]
  },
  {
   "cell_type": "code",
   "execution_count": 21,
   "id": "4f688b30-a745-4a90-bee8-9cb5b40664b1",
   "metadata": {},
   "outputs": [],
   "source": [
    "class ManagedFIle:\n",
    "    def __init__(self, name):\n",
    "        self.name = name\n",
    "    def __enter__(self):\n",
    "        self.file = open(self.file, 'w')\n",
    "    def __exit__(self):\n",
    "        if self.file:\n",
    "            self.file.close()"
   ]
  },
  {
   "cell_type": "code",
   "execution_count": 22,
   "id": "7ade1975-3f52-454d-af21-327f09dc7d5f",
   "metadata": {},
   "outputs": [],
   "source": [
    "from contextlib import contextmanager"
   ]
  },
  {
   "cell_type": "code",
   "execution_count": 24,
   "id": "f7a7cf2c-2939-4f80-b464-d02a36719901",
   "metadata": {},
   "outputs": [],
   "source": [
    "@contextmanager\n",
    "def managed_file(name):\n",
    "    try:\n",
    "        f = open(name, 'w')\n",
    "        yield f\n",
    "    finally:\n",
    "        f.close()"
   ]
  },
  {
   "cell_type": "code",
   "execution_count": 29,
   "id": "119f45f6-6787-4b44-b556-da8a571a7ec0",
   "metadata": {},
   "outputs": [],
   "source": [
    "with managed_file('hello.txt')  as f:\n",
    "    f.write('hello, world!\\n')\n",
    "    f.write('bye now')"
   ]
  },
  {
   "cell_type": "code",
   "execution_count": 53,
   "id": "34910c1e-fe63-4086-8af0-c96ae0805c97",
   "metadata": {},
   "outputs": [],
   "source": [
    "class Indenter:\n",
    "    def __init__(self):\n",
    "        self.level = 0\n",
    "    \n",
    "    def change_level(self, value):\n",
    "        self.level += value\n",
    "\n",
    "    def print(self, text):\n",
    "        print('    '*self.level + text)\n",
    "   \n",
    "    def __enter__(self):\n",
    "        self.change_level(1)\n",
    "        return self\n",
    "\n",
    "    def __exit__(self, exc_type, exc_val, exc_tb):\n",
    "        self.change_level(-1)"
   ]
  },
  {
   "cell_type": "code",
   "execution_count": 54,
   "id": "e14ca098-35f7-4b8f-82dd-6e38674e483a",
   "metadata": {},
   "outputs": [
    {
     "name": "stdout",
     "output_type": "stream",
     "text": [
      "    hi!\n",
      "        hello\n",
      "            bonjour\n",
      "    hey\n"
     ]
    }
   ],
   "source": [
    "with Indenter() as indent:\n",
    "    indent.print('hi!')\n",
    "    with indent:\n",
    "        indent.print('hello')\n",
    "        with indent:\n",
    "            indent.print('bonjour')\n",
    "    indent.print('hey')"
   ]
  },
  {
   "cell_type": "markdown",
   "id": "ed60551b-6f38-4ee3-94ef-77ae38397fd7",
   "metadata": {},
   "source": [
    "## Underscores, Dunders, and More"
   ]
  },
  {
   "cell_type": "markdown",
   "id": "0693c687-1b6b-4776-8b8b-8c6bc5c8c5ca",
   "metadata": {},
   "source": [
    "In a nutshell:\n",
    "- single leading underscore is to define internal names, like _internal\n",
    "- single trailing underscore is to define a name that matches Pythin keyword, like var_\n",
    "- double leading underscore is _name mangling_ for Python interpreter to avoid the variable from being overriden in subclasses. See below\n",
    "- double leading and trailing underscore are reserved for special \"magic\" Python methods\n",
    "- single underscore can be used as a temporasry placeholder for a variable that is not used\n"
   ]
  },
  {
   "cell_type": "markdown",
   "id": "c95e7bf4-502f-4057-8cb1-1759238828cc",
   "metadata": {},
   "source": [
    ":::{.callout-note}\n",
    "Note, that by default Python `from bla import *` does not import names defined with a leading underscore, i.e. _internal\n",
    ":::"
   ]
  },
  {
   "cell_type": "code",
   "execution_count": 59,
   "id": "20496ef5-be37-4f52-b007-d1cc71040920",
   "metadata": {},
   "outputs": [
    {
     "data": {
      "text/plain": [
       "['_Test__bza',\n",
       " '__class__',\n",
       " '__delattr__',\n",
       " '__dict__',\n",
       " '__dir__',\n",
       " '__doc__',\n",
       " '__eq__',\n",
       " '__format__',\n",
       " '__ge__',\n",
       " '__getattribute__',\n",
       " '__getstate__',\n",
       " '__gt__',\n",
       " '__hash__',\n",
       " '__init__',\n",
       " '__init_subclass__',\n",
       " '__le__',\n",
       " '__lt__',\n",
       " '__module__',\n",
       " '__ne__',\n",
       " '__new__',\n",
       " '__reduce__',\n",
       " '__reduce_ex__',\n",
       " '__repr__',\n",
       " '__setattr__',\n",
       " '__sizeof__',\n",
       " '__str__',\n",
       " '__subclasshook__',\n",
       " '__weakref__',\n",
       " '_bar',\n",
       " 'foo']"
      ]
     },
     "execution_count": 59,
     "metadata": {},
     "output_type": "execute_result"
    }
   ],
   "source": [
    "class Test:\n",
    "    def __init__(self):\n",
    "        self.foo = 11\n",
    "        self._bar = 12\n",
    "        self.__bza = 13\n",
    "t = Test()\n",
    "dir(t)"
   ]
  },
  {
   "cell_type": "code",
   "execution_count": 60,
   "id": "d081a73d-ea88-42c4-9f11-b8809158eb9c",
   "metadata": {},
   "outputs": [
    {
     "ename": "AttributeError",
     "evalue": "'ExtendedTest' object has no attribute '__baz'",
     "output_type": "error",
     "traceback": [
      "\u001b[0;31m---------------------------------------------------------------------------\u001b[0m",
      "\u001b[0;31mAttributeError\u001b[0m                            Traceback (most recent call last)",
      "Cell \u001b[0;32mIn[60], line 8\u001b[0m\n\u001b[1;32m      6\u001b[0m         \u001b[38;5;28mself\u001b[39m\u001b[38;5;241m.\u001b[39m__baz \u001b[38;5;241m=\u001b[39m \u001b[38;5;124m'\u001b[39m\u001b[38;5;124moverridden\u001b[39m\u001b[38;5;124m'\u001b[39m\n\u001b[1;32m      7\u001b[0m t2 \u001b[38;5;241m=\u001b[39m ExtendedTest()\n\u001b[0;32m----> 8\u001b[0m t2\u001b[38;5;241m.\u001b[39mfoo, t2\u001b[38;5;241m.\u001b[39m_bar, \u001b[43mt2\u001b[49m\u001b[38;5;241;43m.\u001b[39;49m\u001b[43m__baz\u001b[49m\n",
      "\u001b[0;31mAttributeError\u001b[0m: 'ExtendedTest' object has no attribute '__baz'"
     ]
    }
   ],
   "source": [
    "class ExtendedTest(Test):\n",
    "    def __init__(self):\n",
    "        super().__init__()\n",
    "        self.foo = 'overridden'\n",
    "        self._bar = 'overridden'\n",
    "        self.__baz = 'overridden'\n",
    "t2 = ExtendedTest()\n",
    "t2.foo, t2._bar, t2.__baz"
   ]
  },
  {
   "cell_type": "markdown",
   "id": "734b0be7-46d9-45e4-b3e8-447aa8d86532",
   "metadata": {},
   "source": [
    "## 2.4 String Formatting"
   ]
  },
  {
   "cell_type": "code",
   "execution_count": 61,
   "id": "994770b3-ae8c-4dec-9007-4ad1be5beffb",
   "metadata": {},
   "outputs": [],
   "source": [
    "errno = 50159747054\n",
    "name = 'Bob'"
   ]
  },
  {
   "cell_type": "markdown",
   "id": "a62f4c01-b1d3-42b7-b167-2c6bf06dc4fd",
   "metadata": {},
   "source": [
    "### \"Old style\" formatting with %"
   ]
  },
  {
   "cell_type": "code",
   "execution_count": 65,
   "id": "497275a0-667c-41fb-b0f6-0201ed14b1fd",
   "metadata": {},
   "outputs": [
    {
     "data": {
      "text/plain": [
       "'Hello, Bob'"
      ]
     },
     "execution_count": 65,
     "metadata": {},
     "output_type": "execute_result"
    }
   ],
   "source": [
    "'Hello, %s' %name"
   ]
  },
  {
   "cell_type": "code",
   "execution_count": 67,
   "id": "47c217ce-4f34-4492-825b-6e249c9e6fc8",
   "metadata": {},
   "outputs": [
    {
     "data": {
      "text/plain": [
       "'badc0ffee'"
      ]
     },
     "execution_count": 67,
     "metadata": {},
     "output_type": "execute_result"
    }
   ],
   "source": [
    "'%x' %errno"
   ]
  },
  {
   "cell_type": "code",
   "execution_count": 69,
   "id": "48d419f3-edf9-4273-bab7-3b7046440fab",
   "metadata": {},
   "outputs": [
    {
     "data": {
      "text/plain": [
       "'Hey Bob, there is a 0xbadc0ffee error!'"
      ]
     },
     "execution_count": 69,
     "metadata": {},
     "output_type": "execute_result"
    }
   ],
   "source": [
    "'Hey %s, there is a 0x%x error!' %(name, errno)"
   ]
  },
  {
   "cell_type": "code",
   "execution_count": 73,
   "id": "bf6f77ed-36d9-454a-9c5b-626b5ac8dd50",
   "metadata": {},
   "outputs": [
    {
     "data": {
      "text/plain": [
       "'Hey Bob, there is a 0xbadc0ffee error!'"
      ]
     },
     "execution_count": 73,
     "metadata": {},
     "output_type": "execute_result"
    }
   ],
   "source": [
    "'Hey %(name)s, there is a 0x%(errno)x error!' %{'name':name, 'errno':errno}"
   ]
  },
  {
   "cell_type": "markdown",
   "id": "7b51aab7-bfc7-4a76-a59f-dbab64bebe71",
   "metadata": {},
   "source": [
    "### \"New style\" formatting"
   ]
  },
  {
   "cell_type": "code",
   "execution_count": 82,
   "id": "4211ec43-17cc-4c0f-9f51-be4878b4281c",
   "metadata": {},
   "outputs": [
    {
     "data": {
      "text/plain": [
       "'Hello, Bob'"
      ]
     },
     "execution_count": 82,
     "metadata": {},
     "output_type": "execute_result"
    }
   ],
   "source": [
    "'Hello, {}'.format(name)"
   ]
  },
  {
   "cell_type": "code",
   "execution_count": 83,
   "id": "79539023-4b25-4848-b33c-4cb1a7125fe3",
   "metadata": {},
   "outputs": [
    {
     "data": {
      "text/plain": [
       "'Hey Bob, there is a 0xbadc0ffee error!'"
      ]
     },
     "execution_count": 83,
     "metadata": {},
     "output_type": "execute_result"
    }
   ],
   "source": [
    "'Hey {name}, there is a 0x{errno:x} error!'.format(name=name, errno=errno)"
   ]
  },
  {
   "cell_type": "markdown",
   "id": "e0e239f6-88b2-48aa-a037-a28ecb406562",
   "metadata": {},
   "source": [
    "### Literal String Interpolation (Python 3.6+)"
   ]
  },
  {
   "cell_type": "code",
   "execution_count": 84,
   "id": "f47dd120-e319-43d1-abbf-a7ab2186ebf6",
   "metadata": {},
   "outputs": [
    {
     "data": {
      "text/plain": [
       "'Hey Bob, there is a 0xbadc0ffee error!'"
      ]
     },
     "execution_count": 84,
     "metadata": {},
     "output_type": "execute_result"
    }
   ],
   "source": [
    "f'Hey {name:s}, there is a 0x{errno:x} error!'"
   ]
  },
  {
   "cell_type": "code",
   "execution_count": 85,
   "id": "ab4ae339-9b66-4700-8dac-b54feadee703",
   "metadata": {},
   "outputs": [
    {
     "data": {
      "text/plain": [
       "'Hey Bob, there is a 0xbadc0ffee error!'"
      ]
     },
     "execution_count": 85,
     "metadata": {},
     "output_type": "execute_result"
    }
   ],
   "source": [
    "f'Hey {name:s}, there is a 0x{errno:x} error!'.format(name=name, errno=errno)"
   ]
  },
  {
   "cell_type": "markdown",
   "id": "00cd67f9-8f97-436e-bc1b-c20227665f56",
   "metadata": {},
   "source": [
    "### Template Strings"
   ]
  },
  {
   "cell_type": "code",
   "execution_count": 86,
   "id": "90ec6c38-5e10-448c-ae02-2865979880e2",
   "metadata": {},
   "outputs": [],
   "source": [
    "from string import Template"
   ]
  },
  {
   "cell_type": "code",
   "execution_count": 87,
   "id": "76ed3bcb-cb0a-413a-b578-733fe56824d1",
   "metadata": {},
   "outputs": [
    {
     "data": {
      "text/plain": [
       "'Hey, Bob!'"
      ]
     },
     "execution_count": 87,
     "metadata": {},
     "output_type": "execute_result"
    }
   ],
   "source": [
    "t = Template('Hey, $name!')\n",
    "t.substitute(name=name)"
   ]
  },
  {
   "cell_type": "code",
   "execution_count": 88,
   "id": "6f00d91c-0179-4226-882b-f778cfb400d4",
   "metadata": {},
   "outputs": [
    {
     "data": {
      "text/plain": [
       "'Hey Bob, there is a 0xbadc0ffee error!'"
      ]
     },
     "execution_count": 88,
     "metadata": {},
     "output_type": "execute_result"
    }
   ],
   "source": [
    "templ_string = 'Hey $name, there is a $error error!'\n",
    "Template(templ_string).substitute(name=name, error=hex(errno))"
   ]
  },
  {
   "cell_type": "markdown",
   "id": "abab27df-adcc-4b3f-aed6-76d37f463342",
   "metadata": {},
   "source": [
    ":::{.callout-warning}\n",
    "When working with user input it is better to use Template Strings to avoid security issues. See example below.\n",
    ":::"
   ]
  },
  {
   "cell_type": "code",
   "execution_count": 94,
   "id": "c3fca36b-7a41-41db-8bab-564dd440b2e1",
   "metadata": {},
   "outputs": [
    {
     "data": {
      "text/plain": [
       "'this-is-a-secret'"
      ]
     },
     "execution_count": 94,
     "metadata": {},
     "output_type": "execute_result"
    }
   ],
   "source": [
    "SECRET = 'this-is-a-secret'\n",
    "\n",
    "class Error:\n",
    "    def __init__(self):\n",
    "        pass\n",
    "err = Error()\n",
    "user_input = '{error.__init__.__globals__[SECRET]}'\n",
    "user_input.format(error=err) # this-is-a-secret"
   ]
  },
  {
   "cell_type": "markdown",
   "id": "d5bbdb10-4b90-4b17-ab10-d73441a1b882",
   "metadata": {},
   "source": [
    "## 3. Python's Functions"
   ]
  },
  {
   "cell_type": "code",
   "execution_count": 99,
   "id": "370bc980-9c7d-4b5b-8955-be2e47297d5e",
   "metadata": {},
   "outputs": [],
   "source": [
    "def yell(text): return text.upper() + \"!\""
   ]
  },
  {
   "cell_type": "markdown",
   "id": "204499e6-48dd-4560-a650-b0ce1cf8579f",
   "metadata": {},
   "source": [
    "All data in Python are objects. This includes functions as well."
   ]
  },
  {
   "cell_type": "code",
   "execution_count": 100,
   "id": "ee269f83-b230-493e-affd-c56329d631d9",
   "metadata": {},
   "outputs": [
    {
     "data": {
      "text/plain": [
       "'WOOF!'"
      ]
     },
     "execution_count": 100,
     "metadata": {},
     "output_type": "execute_result"
    }
   ],
   "source": [
    "bark = yell\n",
    "bark('woof')"
   ]
  },
  {
   "cell_type": "markdown",
   "id": "ffc88ddb-e75c-4d94-bdbe-33c528632aab",
   "metadata": {},
   "source": [
    "Function objects and their names are different things. See below"
   ]
  },
  {
   "cell_type": "code",
   "execution_count": 101,
   "id": "40bb79ac-2351-4372-9519-2113242eefb8",
   "metadata": {},
   "outputs": [
    {
     "ename": "NameError",
     "evalue": "name 'yell' is not defined",
     "output_type": "error",
     "traceback": [
      "\u001b[0;31m---------------------------------------------------------------------------\u001b[0m",
      "\u001b[0;31mNameError\u001b[0m                                 Traceback (most recent call last)",
      "Cell \u001b[0;32mIn[101], line 2\u001b[0m\n\u001b[1;32m      1\u001b[0m \u001b[38;5;28;01mdel\u001b[39;00m(yell)\n\u001b[0;32m----> 2\u001b[0m \u001b[43myell\u001b[49m(\u001b[38;5;124m'\u001b[39m\u001b[38;5;124mhello\u001b[39m\u001b[38;5;124m'\u001b[39m)\n",
      "\u001b[0;31mNameError\u001b[0m: name 'yell' is not defined"
     ]
    }
   ],
   "source": [
    "del(yell)\n",
    "yell('hello')"
   ]
  },
  {
   "cell_type": "code",
   "execution_count": 102,
   "id": "b47ab7e9-3246-45be-812a-fe28e8deaaac",
   "metadata": {},
   "outputs": [
    {
     "data": {
      "text/plain": [
       "'HELLO!'"
      ]
     },
     "execution_count": 102,
     "metadata": {},
     "output_type": "execute_result"
    }
   ],
   "source": [
    "bark('hello')"
   ]
  },
  {
   "cell_type": "markdown",
   "id": "20c6389c-2095-44bf-8bda-451c38940e35",
   "metadata": {},
   "source": [
    "Python attaches a string identifier to every function at creation time for debugging purposes. You can access this internal identifier with the `__name__` attribute"
   ]
  },
  {
   "cell_type": "code",
   "execution_count": 110,
   "id": "3b5545d5-d4ef-4217-a8cd-7f42e3712887",
   "metadata": {},
   "outputs": [
    {
     "data": {
      "text/plain": [
       "'yell'"
      ]
     },
     "execution_count": 110,
     "metadata": {},
     "output_type": "execute_result"
    }
   ],
   "source": [
    "bark.__name__"
   ]
  },
  {
   "cell_type": "markdown",
   "id": "186e2161-4319-4d0e-a6a0-35f9893752da",
   "metadata": {},
   "source": [
    "You can store functions is structures"
   ]
  },
  {
   "cell_type": "code",
   "execution_count": 107,
   "id": "33b150f2-0b47-4bdb-b88a-abdc3f58c130",
   "metadata": {},
   "outputs": [
    {
     "data": {
      "text/plain": [
       "[<function __main__.yell(text)>,\n",
       " <method 'lower' of 'str' objects>,\n",
       " <method 'capitalize' of 'str' objects>]"
      ]
     },
     "execution_count": 107,
     "metadata": {},
     "output_type": "execute_result"
    }
   ],
   "source": [
    "funcs = [bark, str.lower, str.capitalize]\n",
    "funcs"
   ]
  },
  {
   "cell_type": "code",
   "execution_count": 108,
   "id": "6509ab4e-cf46-4bf1-a398-56b69b307a09",
   "metadata": {},
   "outputs": [
    {
     "data": {
      "text/plain": [
       "['HEY THERE!', 'hey there', 'Hey there']"
      ]
     },
     "execution_count": 108,
     "metadata": {},
     "output_type": "execute_result"
    }
   ],
   "source": [
    "[f('hey there') for f in funcs]"
   ]
  },
  {
   "cell_type": "markdown",
   "id": "e667d9b6-7a41-4e75-a7d8-c9dd478abdcc",
   "metadata": {},
   "source": [
    "and pass functions to functions"
   ]
  },
  {
   "cell_type": "code",
   "execution_count": 113,
   "id": "3f5be13b-3956-41c8-9de6-d323c312514f",
   "metadata": {},
   "outputs": [
    {
     "name": "stdout",
     "output_type": "stream",
     "text": [
      "HI, I AM A PYTHON PROGRAM!\n"
     ]
    }
   ],
   "source": [
    "def greet(f):\n",
    "    greeting = f('Hi, I am a Python program')\n",
    "    print(greeting)\n",
    "greet(bark)"
   ]
  },
  {
   "cell_type": "code",
   "execution_count": 114,
   "id": "a53bf50e-f6e7-4449-bf43-f9e1e4ee62e7",
   "metadata": {},
   "outputs": [],
   "source": [
    "def get_speak_func(text, volume):\n",
    "    def whisper():\n",
    "        return text.lower() + '...'\n",
    "    def yell():\n",
    "        return text.upper() + '!'\n",
    "    if volume > 0.5:\n",
    "        return yell\n",
    "    else:\n",
    "        return whisper"
   ]
  },
  {
   "cell_type": "code",
   "execution_count": 116,
   "id": "f91f24d3-bd6d-4cab-84b4-b5140f8963c8",
   "metadata": {},
   "outputs": [
    {
     "data": {
      "text/plain": [
       "'HELLO, WORLD!'"
      ]
     },
     "execution_count": 116,
     "metadata": {},
     "output_type": "execute_result"
    }
   ],
   "source": [
    "get_speak_func('Hello, world', 1)()"
   ]
  },
  {
   "cell_type": "code",
   "execution_count": 118,
   "id": "9e32088b-8a08-47ba-8563-78785b442874",
   "metadata": {},
   "outputs": [
    {
     "data": {
      "text/plain": [
       "7"
      ]
     },
     "execution_count": 118,
     "metadata": {},
     "output_type": "execute_result"
    }
   ],
   "source": [
    "class Adder:\n",
    "    def __init__(self, n):\n",
    "        self.n = n\n",
    "    def __call__(self, x):\n",
    "        return self.n + x\n",
    "\n",
    "plus_3 = Adder(3)\n",
    "plus_3(4)"
   ]
  },
  {
   "cell_type": "code",
   "execution_count": 120,
   "id": "cda1ef7f-8786-4348-adee-928cc61615cd",
   "metadata": {},
   "outputs": [
    {
     "data": {
      "text/plain": [
       "(True, False)"
      ]
     },
     "execution_count": 120,
     "metadata": {},
     "output_type": "execute_result"
    }
   ],
   "source": [
    "callable(Adder), callable('three')"
   ]
  },
  {
   "cell_type": "code",
   "execution_count": 122,
   "id": "1141e256-b48d-4b69-b459-cbc7801a5e0f",
   "metadata": {},
   "outputs": [
    {
     "data": {
      "text/plain": [
       "7"
      ]
     },
     "execution_count": 122,
     "metadata": {},
     "output_type": "execute_result"
    }
   ],
   "source": [
    "def make_adder(n):\n",
    "    return lambda x: x + n\n",
    "plus_3 = make_adder(3)\n",
    "plus_3(4)"
   ]
  },
  {
   "cell_type": "code",
   "execution_count": null,
   "id": "2e11e789-1f0c-4fe5-a113-7f6f696fb0a1",
   "metadata": {},
   "outputs": [],
   "source": []
  }
 ],
 "metadata": {
  "kernelspec": {
   "display_name": "Python 3 (ipykernel)",
   "language": "python",
   "name": "python3"
  },
  "language_info": {
   "codemirror_mode": {
    "name": "ipython",
    "version": 3
   },
   "file_extension": ".py",
   "mimetype": "text/x-python",
   "name": "python",
   "nbconvert_exporter": "python",
   "pygments_lexer": "ipython3",
   "version": "3.12.8"
  }
 },
 "nbformat": 4,
 "nbformat_minor": 5
}
