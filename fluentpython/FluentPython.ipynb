{
 "cells": [
  {
   "cell_type": "markdown",
   "id": "9c4aee65-b77e-424f-bdf9-92f17ff7d4a3",
   "metadata": {
    "jp-MarkdownHeadingCollapsed": true
   },
   "source": [
    "# Chapter 1. Python Data Model"
   ]
  },
  {
   "cell_type": "code",
   "execution_count": 1,
   "id": "a0bae156-e18a-45a6-9e90-2cf44b5ce9f0",
   "metadata": {},
   "outputs": [],
   "source": [
    "import collections\n",
    "\n",
    "Card = collections.namedtuple('Card', ['rank', 'suit'])\n",
    "\n",
    "class FrenchDeck:\n",
    "    ranks = [str(n) for n in range(2,11)]+list('JQKA')\n",
    "    suits = 'spades diamonds clubs hearts'.split()\n",
    "\n",
    "    def __init__(self):\n",
    "        self._cards = [Card(rank, suit) for suit in self.suits \n",
    "                       for rank in self.ranks]\n",
    "\n",
    "    def __len__(self): return len(self._cards)\n",
    "\n",
    "    def __getitem__(self, position): return self._cards[position]"
   ]
  },
  {
   "cell_type": "code",
   "execution_count": 2,
   "id": "a9f0c5d0-2aa6-45d4-946c-3dbd9cb193b2",
   "metadata": {},
   "outputs": [
    {
     "data": {
      "text/plain": [
       "Card(rank='7', suit='diamonds')"
      ]
     },
     "execution_count": 2,
     "metadata": {},
     "output_type": "execute_result"
    }
   ],
   "source": [
    "beer_card = Card('7', 'diamonds')\n",
    "beer_card"
   ]
  },
  {
   "cell_type": "code",
   "execution_count": 3,
   "id": "44ab78ab-2b30-4133-8cf5-d72f0d622acd",
   "metadata": {},
   "outputs": [
    {
     "data": {
      "text/plain": [
       "Card(rank='2', suit='spades')"
      ]
     },
     "execution_count": 3,
     "metadata": {},
     "output_type": "execute_result"
    }
   ],
   "source": [
    "deck = FrenchDeck()\n",
    "deck[0]"
   ]
  },
  {
   "cell_type": "code",
   "execution_count": 4,
   "id": "6c9ab9dc-70dc-472e-94b7-2db576ed66ec",
   "metadata": {},
   "outputs": [
    {
     "data": {
      "text/plain": [
       "Card(rank='K', suit='hearts')"
      ]
     },
     "execution_count": 4,
     "metadata": {},
     "output_type": "execute_result"
    }
   ],
   "source": [
    "from random import choice\n",
    "\n",
    "choice(deck)"
   ]
  },
  {
   "cell_type": "code",
   "execution_count": 5,
   "id": "e4f25716-c822-4506-9e6d-f79dde6a2e6e",
   "metadata": {},
   "outputs": [
    {
     "data": {
      "text/plain": [
       "Card(rank='7', suit='spades')"
      ]
     },
     "execution_count": 5,
     "metadata": {},
     "output_type": "execute_result"
    }
   ],
   "source": [
    "choice(deck)"
   ]
  },
  {
   "cell_type": "code",
   "execution_count": 6,
   "id": "7672fbdc-3005-4d92-946f-666fb1dad78a",
   "metadata": {},
   "outputs": [
    {
     "data": {
      "text/plain": [
       "[Card(rank='2', suit='spades'),\n",
       " Card(rank='3', suit='spades'),\n",
       " Card(rank='4', suit='spades')]"
      ]
     },
     "execution_count": 6,
     "metadata": {},
     "output_type": "execute_result"
    }
   ],
   "source": [
    "deck[:3]"
   ]
  },
  {
   "cell_type": "markdown",
   "id": "97668d5a-e160-47c1-97a6-c5e6b1b2a916",
   "metadata": {},
   "source": [
    "Does a linear scan. Alternatively we could have implemented `__contains__` method"
   ]
  },
  {
   "cell_type": "code",
   "execution_count": 7,
   "id": "8545a51e-e3a5-46cb-b729-f044aab49526",
   "metadata": {},
   "outputs": [
    {
     "data": {
      "text/plain": [
       "True"
      ]
     },
     "execution_count": 7,
     "metadata": {},
     "output_type": "execute_result"
    }
   ],
   "source": [
    "Card('Q', 'hearts') in deck"
   ]
  },
  {
   "cell_type": "code",
   "execution_count": 8,
   "id": "9103f369-5ac8-44af-b62b-afdbfe665e7f",
   "metadata": {},
   "outputs": [
    {
     "data": {
      "text/plain": [
       "{'spades': 3, 'hearts': 2, 'diamonds': 1, 'clubs': 0}"
      ]
     },
     "execution_count": 8,
     "metadata": {},
     "output_type": "execute_result"
    }
   ],
   "source": [
    "suit_values = dict(spades=3, hearts=2, diamonds=1, clubs=0)\n",
    "suit_values"
   ]
  },
  {
   "cell_type": "code",
   "execution_count": 9,
   "id": "fb6c43e3-86f3-4ce6-990e-d39f4424f91d",
   "metadata": {},
   "outputs": [],
   "source": [
    "def spades_high(card):\n",
    "    rank_value = FrenchDeck.ranks.index(card.rank)\n",
    "    return rank_value * len(suit_values) + suit_values[card.suit]"
   ]
  },
  {
   "cell_type": "code",
   "execution_count": 10,
   "id": "bdd83982-cbd3-4ad3-8850-da91a4f9cc71",
   "metadata": {},
   "outputs": [
    {
     "data": {
      "text/plain": [
       "12"
      ]
     },
     "execution_count": 10,
     "metadata": {},
     "output_type": "execute_result"
    }
   ],
   "source": [
    "FrenchDeck.ranks.index('A')"
   ]
  },
  {
   "cell_type": "code",
   "execution_count": 11,
   "id": "ab0b9c42-90d0-47a6-904e-71f7f33757eb",
   "metadata": {
    "scrolled": true
   },
   "outputs": [
    {
     "data": {
      "text/plain": [
       "0"
      ]
     },
     "execution_count": 11,
     "metadata": {},
     "output_type": "execute_result"
    }
   ],
   "source": [
    "spades_high(Card('2','clubs'))"
   ]
  },
  {
   "cell_type": "code",
   "execution_count": 12,
   "id": "68d24123-e03e-4b94-82ae-dc9c3064bd9e",
   "metadata": {
    "scrolled": true
   },
   "outputs": [
    {
     "data": {
      "text/plain": [
       "[Card(rank='2', suit='clubs'),\n",
       " Card(rank='2', suit='diamonds'),\n",
       " Card(rank='2', suit='hearts'),\n",
       " Card(rank='2', suit='spades'),\n",
       " Card(rank='3', suit='clubs'),\n",
       " Card(rank='3', suit='diamonds'),\n",
       " Card(rank='3', suit='hearts'),\n",
       " Card(rank='3', suit='spades'),\n",
       " Card(rank='4', suit='clubs'),\n",
       " Card(rank='4', suit='diamonds'),\n",
       " Card(rank='4', suit='hearts'),\n",
       " Card(rank='4', suit='spades'),\n",
       " Card(rank='5', suit='clubs'),\n",
       " Card(rank='5', suit='diamonds'),\n",
       " Card(rank='5', suit='hearts'),\n",
       " Card(rank='5', suit='spades'),\n",
       " Card(rank='6', suit='clubs'),\n",
       " Card(rank='6', suit='diamonds'),\n",
       " Card(rank='6', suit='hearts'),\n",
       " Card(rank='6', suit='spades'),\n",
       " Card(rank='7', suit='clubs'),\n",
       " Card(rank='7', suit='diamonds'),\n",
       " Card(rank='7', suit='hearts'),\n",
       " Card(rank='7', suit='spades'),\n",
       " Card(rank='8', suit='clubs'),\n",
       " Card(rank='8', suit='diamonds'),\n",
       " Card(rank='8', suit='hearts'),\n",
       " Card(rank='8', suit='spades'),\n",
       " Card(rank='9', suit='clubs'),\n",
       " Card(rank='9', suit='diamonds'),\n",
       " Card(rank='9', suit='hearts'),\n",
       " Card(rank='9', suit='spades'),\n",
       " Card(rank='10', suit='clubs'),\n",
       " Card(rank='10', suit='diamonds'),\n",
       " Card(rank='10', suit='hearts'),\n",
       " Card(rank='10', suit='spades'),\n",
       " Card(rank='J', suit='clubs'),\n",
       " Card(rank='J', suit='diamonds'),\n",
       " Card(rank='J', suit='hearts'),\n",
       " Card(rank='J', suit='spades'),\n",
       " Card(rank='Q', suit='clubs'),\n",
       " Card(rank='Q', suit='diamonds'),\n",
       " Card(rank='Q', suit='hearts'),\n",
       " Card(rank='Q', suit='spades'),\n",
       " Card(rank='K', suit='clubs'),\n",
       " Card(rank='K', suit='diamonds'),\n",
       " Card(rank='K', suit='hearts'),\n",
       " Card(rank='K', suit='spades'),\n",
       " Card(rank='A', suit='clubs'),\n",
       " Card(rank='A', suit='diamonds'),\n",
       " Card(rank='A', suit='hearts'),\n",
       " Card(rank='A', suit='spades')]"
      ]
     },
     "execution_count": 12,
     "metadata": {},
     "output_type": "execute_result"
    }
   ],
   "source": [
    "sorted(deck,key=spades_high)"
   ]
  },
  {
   "cell_type": "code",
   "execution_count": 13,
   "id": "f9793cac-721b-41d6-a947-11b20cd4cfbc",
   "metadata": {},
   "outputs": [],
   "source": [
    "import math\n",
    "\n",
    "class Vector:\n",
    "\n",
    "    def __init__(self, x=0, y=0): self.x, self.y = x, y\n",
    "\n",
    "    #!r calls repr() representation\n",
    "    def __repr__(self): return f'Vector({self.x!r}, {self.y!r})'\n",
    "\n",
    "    def __abs__(self): return math.hypot(self.x, self.y)\n",
    "\n",
    "    def __bool__(self): return bool(abs(self))\n",
    "\n",
    "    def __add__(self, other): return Vector(self.x+other.x, self.y+other.y)\n",
    "\n",
    "    def __eq__(self, other): return (self.x==other.x) and (self.y==other.y)\n",
    "\n",
    "    def __mul__(self, scalar): return Vector(self.x*scalar, self.y*scalar)"
   ]
  },
  {
   "cell_type": "code",
   "execution_count": 14,
   "id": "ebadf00e-ded4-4163-b9d1-08b2d50e71f8",
   "metadata": {},
   "outputs": [
    {
     "data": {
      "text/plain": [
       "Vector(4, 5)"
      ]
     },
     "execution_count": 14,
     "metadata": {},
     "output_type": "execute_result"
    }
   ],
   "source": [
    "v1 = Vector(2, 4)\n",
    "v2 = Vector(2, 1)\n",
    "v1+v2"
   ]
  },
  {
   "cell_type": "code",
   "execution_count": 15,
   "id": "2c3bd05b-e4cd-4804-80d7-61ef46f428ee",
   "metadata": {},
   "outputs": [
    {
     "data": {
      "text/plain": [
       "5.0"
      ]
     },
     "execution_count": 15,
     "metadata": {},
     "output_type": "execute_result"
    }
   ],
   "source": [
    "v = Vector(3, 4)\n",
    "abs(v)"
   ]
  },
  {
   "cell_type": "code",
   "execution_count": 16,
   "id": "2091c386-c090-4db4-b955-447b4e2a98ff",
   "metadata": {},
   "outputs": [
    {
     "data": {
      "text/plain": [
       "Vector(9, 12)"
      ]
     },
     "execution_count": 16,
     "metadata": {},
     "output_type": "execute_result"
    }
   ],
   "source": [
    "v*3"
   ]
  },
  {
   "cell_type": "code",
   "execution_count": 17,
   "id": "205b1ab4-a3c2-404b-a1ea-aab393d5b8de",
   "metadata": {},
   "outputs": [
    {
     "data": {
      "text/plain": [
       "True"
      ]
     },
     "execution_count": 17,
     "metadata": {},
     "output_type": "execute_result"
    }
   ],
   "source": [
    "eval(repr(v)) == v"
   ]
  },
  {
   "cell_type": "code",
   "execution_count": 18,
   "id": "92c82c61-8c53-45f6-816f-5140d9094523",
   "metadata": {},
   "outputs": [
    {
     "data": {
      "text/plain": [
       "Vector(3, 4)"
      ]
     },
     "execution_count": 18,
     "metadata": {},
     "output_type": "execute_result"
    }
   ],
   "source": [
    "v"
   ]
  },
  {
   "cell_type": "markdown",
   "id": "b14bb812-d579-45fe-b020-730d6c7aaebe",
   "metadata": {},
   "source": [
    "Goal of `__repr__` is to be unambiguous. Ideally we want `eval(repr(v)) == v`"
   ]
  },
  {
   "cell_type": "code",
   "execution_count": 19,
   "id": "1371f57c-2ab2-4e5f-a559-2e0007050f89",
   "metadata": {},
   "outputs": [
    {
     "data": {
      "text/plain": [
       "False"
      ]
     },
     "execution_count": 19,
     "metadata": {},
     "output_type": "execute_result"
    }
   ],
   "source": [
    "v1==v2"
   ]
  },
  {
   "cell_type": "markdown",
   "id": "976b44be-8df2-4890-a8c2-1a0c0e868b38",
   "metadata": {
    "jp-MarkdownHeadingCollapsed": true
   },
   "source": [
    "# Chapter 2. Array of Sequences"
   ]
  },
  {
   "cell_type": "code",
   "execution_count": 20,
   "id": "1902bbf1-c37d-41f1-8c37-0f0eaf6adc9e",
   "metadata": {},
   "outputs": [
    {
     "data": {
      "text/plain": [
       "99"
      ]
     },
     "execution_count": 20,
     "metadata": {},
     "output_type": "execute_result"
    }
   ],
   "source": [
    "x = 'abc'\n",
    "codes = [last := ord(c) for c in x]\n",
    "last"
   ]
  },
  {
   "cell_type": "code",
   "execution_count": 21,
   "id": "c2f083e0-040b-4bb8-aacb-1cdbf42bc8cb",
   "metadata": {},
   "outputs": [
    {
     "name": "stdout",
     "output_type": "stream",
     "text": [
      "black S\n",
      "black M\n",
      "black L\n",
      "white S\n",
      "white M\n",
      "white L\n"
     ]
    }
   ],
   "source": [
    "colors = ['black', 'white']\n",
    "sizes = ['S', 'M', 'L']\n",
    "\n",
    "for tshirt in (f'{c} {s}' for c in colors for s in sizes): print (tshirt)"
   ]
  },
  {
   "cell_type": "code",
   "execution_count": 22,
   "id": "3c8e3050-8630-44d2-917c-83f60b706a7d",
   "metadata": {},
   "outputs": [],
   "source": [
    "from collections import namedtuple"
   ]
  },
  {
   "cell_type": "code",
   "execution_count": 23,
   "id": "7bde152a-a8d0-4095-a82d-20a052ddf99d",
   "metadata": {},
   "outputs": [],
   "source": [
    "car = namedtuple('Car', ('speed', 'model'))"
   ]
  },
  {
   "cell_type": "code",
   "execution_count": 24,
   "id": "54f3a547-192f-41f8-a2f1-a32c0e5ac39b",
   "metadata": {},
   "outputs": [
    {
     "data": {
      "text/plain": [
       "10"
      ]
     },
     "execution_count": 24,
     "metadata": {},
     "output_type": "execute_result"
    }
   ],
   "source": [
    "car(10,20).speed"
   ]
  },
  {
   "cell_type": "code",
   "execution_count": 25,
   "id": "089914bf-5a5e-42fe-be85-9b0670b2c323",
   "metadata": {},
   "outputs": [
    {
     "data": {
      "text/plain": [
       "(0, [1, 2, 3, 4])"
      ]
     },
     "execution_count": 25,
     "metadata": {},
     "output_type": "execute_result"
    }
   ],
   "source": [
    "a,* b = range(5)\n",
    "a, b"
   ]
  },
  {
   "cell_type": "markdown",
   "id": "303aefbc-e11d-49af-9adb-c43b285d2364",
   "metadata": {},
   "source": [
    "Variable unpacking `*` can appear in any place (but only once)"
   ]
  },
  {
   "cell_type": "code",
   "execution_count": 26,
   "id": "3d1b65ff-6e76-4987-bd94-2ef1c7ef1983",
   "metadata": {},
   "outputs": [
    {
     "data": {
      "text/plain": [
       "(0, 1, [2, 3, 4])"
      ]
     },
     "execution_count": 26,
     "metadata": {},
     "output_type": "execute_result"
    }
   ],
   "source": [
    "a,b,*c = range(5)\n",
    "a,b,c"
   ]
  },
  {
   "cell_type": "code",
   "execution_count": 27,
   "id": "bb03eefa-11ed-442a-a611-cd8d6ea52237",
   "metadata": {},
   "outputs": [
    {
     "data": {
      "text/plain": [
       "(0, [1, 2, 3], 4)"
      ]
     },
     "execution_count": 27,
     "metadata": {},
     "output_type": "execute_result"
    }
   ],
   "source": [
    "a,*b,c = range(5)\n",
    "a,b,c"
   ]
  },
  {
   "cell_type": "markdown",
   "id": "d8f76c01-e9e4-406c-8e6d-009267792c44",
   "metadata": {},
   "source": [
    "### Unpacking with * in Function Calls ans Sequence Literals"
   ]
  },
  {
   "cell_type": "code",
   "execution_count": 28,
   "id": "a6ee9247-cbdd-45cc-aba5-babafc74984d",
   "metadata": {},
   "outputs": [],
   "source": [
    "def fun(a,b,c,d,*rest): return a,b,c,d,rest"
   ]
  },
  {
   "cell_type": "code",
   "execution_count": 29,
   "id": "a7892bbd-ecf6-4622-b3d3-a72e99f191cc",
   "metadata": {},
   "outputs": [
    {
     "data": {
      "text/plain": [
       "(1, 2, 3, 4, (5, 6))"
      ]
     },
     "execution_count": 29,
     "metadata": {},
     "output_type": "execute_result"
    }
   ],
   "source": [
    "fun(*[1,2],3,*range(4,7))"
   ]
  },
  {
   "cell_type": "code",
   "execution_count": 30,
   "id": "41f985ff-15bd-461d-a2e9-855aa34690bd",
   "metadata": {},
   "outputs": [
    {
     "data": {
      "text/plain": [
       "(0, 1, 2, 3, 4)"
      ]
     },
     "execution_count": 30,
     "metadata": {},
     "output_type": "execute_result"
    }
   ],
   "source": [
    "*range(4), 4"
   ]
  },
  {
   "cell_type": "code",
   "execution_count": 31,
   "id": "eda18220-f20f-4dd1-af18-457bf5a1bc8e",
   "metadata": {},
   "outputs": [
    {
     "data": {
      "text/plain": [
       "(1, 0, 1, 2, 3)"
      ]
     },
     "execution_count": 31,
     "metadata": {},
     "output_type": "execute_result"
    }
   ],
   "source": [
    "1, *range(4)"
   ]
  },
  {
   "cell_type": "markdown",
   "id": "32b25544-f778-49a1-9dfc-0594840dcb6a",
   "metadata": {},
   "source": [
    "### Nested unpacking"
   ]
  },
  {
   "cell_type": "code",
   "execution_count": 32,
   "id": "d7806892-7d30-4c48-ae93-0a8dfd55eb0c",
   "metadata": {},
   "outputs": [
    {
     "name": "stdout",
     "output_type": "stream",
     "text": [
      "                |  latitude | longitude\n"
     ]
    }
   ],
   "source": [
    "print(f'{\"\":15} | {\"latitude\":>9} | {\"longitude\":>9}')"
   ]
  },
  {
   "cell_type": "markdown",
   "id": "a231054c-81f3-4175-a9a6-c2ceaf8a6ba7",
   "metadata": {},
   "source": [
    "### Pattern Matching with Sequences"
   ]
  },
  {
   "cell_type": "code",
   "execution_count": 33,
   "id": "7a7c1cd1-5c38-4591-9302-a5b78714ea63",
   "metadata": {},
   "outputs": [],
   "source": [
    "def handle_command(self, message):\n",
    "    match message:\n",
    "        case ['BEEPER', frequency, times]:\n",
    "            self.beep(times, frequency)\n",
    "        case ['NECK', angle]:\n",
    "            self.rotate_neck(angle)\n",
    "        case ['LED', ident, intensity]:\n",
    "            self.leds[ident].set_brightness(ident, intensity)\n",
    "        case ['LED', ident, red, green, blue]:\n",
    "            self.leds[ident].set_color(ident, red, green, blue)\n",
    "        case _:\n",
    "            raise InvalidCommand(message)"
   ]
  },
  {
   "cell_type": "code",
   "execution_count": 34,
   "id": "8731d04a-9567-4333-b20f-b8c092519bb7",
   "metadata": {},
   "outputs": [
    {
     "name": "stdout",
     "output_type": "stream",
     "text": [
      "(31.1, 121.3)\n"
     ]
    }
   ],
   "source": [
    "t = ['Shanghai', 'CN', 24.9, (31.1, 121.3)]\n",
    "match t:\n",
    "    case [c, _, _, (lat, lon) as coord]:\n",
    "        print(coord)"
   ]
  },
  {
   "cell_type": "code",
   "execution_count": 35,
   "id": "03962fa0-b507-42e2-8747-009824f59693",
   "metadata": {},
   "outputs": [
    {
     "data": {
      "text/plain": [
       "[0, 1, 20, 30, 5, 6, 7, 8, 9]"
      ]
     },
     "execution_count": 35,
     "metadata": {},
     "output_type": "execute_result"
    }
   ],
   "source": [
    "l = list(range(10))\n",
    "l[2:5] = [20,30]\n",
    "l"
   ]
  },
  {
   "cell_type": "markdown",
   "id": "34289c70-6c11-4caf-8c1a-5438511d1085",
   "metadata": {},
   "source": [
    "### Building Lists of Lists"
   ]
  },
  {
   "cell_type": "markdown",
   "id": "756a2a18-2e48-43f3-a966-6515d4837042",
   "metadata": {},
   "source": [
    "Beware of using * operator on lists of mutable objects!"
   ]
  },
  {
   "cell_type": "code",
   "execution_count": 36,
   "id": "a48cf791-9cd1-49f9-8857-12d099dbd8f6",
   "metadata": {},
   "outputs": [
    {
     "name": "stdout",
     "output_type": "stream",
     "text": [
      "[['_', '_', '_'], ['_', '_', '_'], ['_', '_', '_']]\n"
     ]
    },
    {
     "data": {
      "text/plain": [
       "[['_', '_', '_'], ['_', '_', 'X'], ['_', '_', '_']]"
      ]
     },
     "execution_count": 36,
     "metadata": {},
     "output_type": "execute_result"
    }
   ],
   "source": [
    "board = [['_']*3 for i in range(3)]\n",
    "print(board)\n",
    "board[1][2]='X'\n",
    "board"
   ]
  },
  {
   "cell_type": "code",
   "execution_count": 37,
   "id": "572c27b0-fc62-4cb6-b4d8-3326630a803b",
   "metadata": {},
   "outputs": [
    {
     "name": "stdout",
     "output_type": "stream",
     "text": [
      "[['_', '_', '_'], ['_', '_', '_'], ['_', '_', '_']]\n"
     ]
    },
    {
     "data": {
      "text/plain": [
       "[['_', '_', 'X'], ['_', '_', 'X'], ['_', '_', 'X']]"
      ]
     },
     "execution_count": 37,
     "metadata": {},
     "output_type": "execute_result"
    }
   ],
   "source": [
    "weird_board = [['_']*3]*3\n",
    "print(weird_board)\n",
    "weird_board[1][2]='X'\n",
    "weird_board"
   ]
  },
  {
   "cell_type": "markdown",
   "id": "0c1d2a4c-d774-4875-882d-e3a11558b8b0",
   "metadata": {},
   "source": [
    "### Augmented Assignment with Sequences"
   ]
  },
  {
   "cell_type": "code",
   "execution_count": 38,
   "id": "b347272b-41d7-4fb1-a101-04feb44f005f",
   "metadata": {},
   "outputs": [
    {
     "name": "stdout",
     "output_type": "stream",
     "text": [
      "139943927613696\n",
      "139943927613696\n"
     ]
    }
   ],
   "source": [
    "l = [1,2,3]\n",
    "print(id(l))\n",
    "l*=2\n",
    "print(id(l))"
   ]
  },
  {
   "cell_type": "code",
   "execution_count": 39,
   "id": "434e8cd7-8ecc-4a6d-befc-abd271c870e6",
   "metadata": {},
   "outputs": [
    {
     "name": "stdout",
     "output_type": "stream",
     "text": [
      "139943927625216\n",
      "139943951409184\n"
     ]
    }
   ],
   "source": [
    "t = (1,2,3)\n",
    "print(id(t))\n",
    "t*=2\n",
    "print(id(t))"
   ]
  },
  {
   "cell_type": "code",
   "execution_count": 48,
   "id": "814728f4-cf3c-49f8-8213-20d34d893f28",
   "metadata": {},
   "outputs": [
    {
     "ename": "TypeError",
     "evalue": "'tuple' object does not support item assignment",
     "output_type": "error",
     "traceback": [
      "\u001b[0;31m---------------------------------------------------------------------------\u001b[0m",
      "\u001b[0;31mTypeError\u001b[0m                                 Traceback (most recent call last)",
      "Cell \u001b[0;32mIn[48], line 2\u001b[0m\n\u001b[1;32m      1\u001b[0m t \u001b[38;5;241m=\u001b[39m (\u001b[38;5;241m1\u001b[39m, \u001b[38;5;241m2\u001b[39m, [\u001b[38;5;241m30\u001b[39m, \u001b[38;5;241m40\u001b[39m])\n\u001b[0;32m----> 2\u001b[0m \u001b[43mt\u001b[49m\u001b[43m[\u001b[49m\u001b[38;5;241;43m2\u001b[39;49m\u001b[43m]\u001b[49m \u001b[38;5;241m+\u001b[39m\u001b[38;5;241m=\u001b[39m [\u001b[38;5;241m50\u001b[39m, \u001b[38;5;241m60\u001b[39m]\n",
      "\u001b[0;31mTypeError\u001b[0m: 'tuple' object does not support item assignment"
     ]
    }
   ],
   "source": [
    "t = (1, 2, [30, 40])\n",
    "# this will give error but still chane values!\n",
    "#t[2] += [50, 60]"
   ]
  },
  {
   "cell_type": "code",
   "execution_count": 49,
   "id": "3d0aaa59-a799-4d6b-973f-c616ad0876e7",
   "metadata": {},
   "outputs": [
    {
     "name": "stdout",
     "output_type": "stream",
     "text": [
      "(1, 2, [30, 40, 50, 60])\n"
     ]
    }
   ],
   "source": [
    "print(t)"
   ]
  },
  {
   "cell_type": "markdown",
   "id": "0692f8af-e9f9-41dd-b0ab-54b4e2198e3a",
   "metadata": {},
   "source": [
    "### Arrays"
   ]
  },
  {
   "cell_type": "code",
   "execution_count": 42,
   "id": "64ac35e5-72bd-45a5-94ce-586788451f7b",
   "metadata": {},
   "outputs": [],
   "source": [
    "from array import array\n",
    "from random import random"
   ]
  },
  {
   "cell_type": "code",
   "execution_count": 43,
   "id": "f6dd9b18-6cd7-430c-a669-1b3015e0f094",
   "metadata": {},
   "outputs": [
    {
     "data": {
      "text/plain": [
       "0.44023397587991675"
      ]
     },
     "execution_count": 43,
     "metadata": {},
     "output_type": "execute_result"
    }
   ],
   "source": [
    "floats = array('d', (random() for _ in range(10**7)))\n",
    "floats[-1]"
   ]
  },
  {
   "cell_type": "code",
   "execution_count": 44,
   "id": "3df6670e-1a29-452d-84ab-c97eabc9a933",
   "metadata": {},
   "outputs": [],
   "source": [
    "fp = open('floats.bin', 'wb')\n",
    "floats.tofile(fp)\n",
    "fp.close()"
   ]
  },
  {
   "cell_type": "code",
   "execution_count": 45,
   "id": "b6239612-a970-42f6-b828-704ad0725180",
   "metadata": {},
   "outputs": [
    {
     "data": {
      "text/plain": [
       "0.44023397587991675"
      ]
     },
     "execution_count": 45,
     "metadata": {},
     "output_type": "execute_result"
    }
   ],
   "source": [
    "floats2 = array('d')\n",
    "fp = open('floats.bin', 'rb')\n",
    "floats2.fromfile(fp, 10**7)\n",
    "fp.close()\n",
    "floats[-1]"
   ]
  },
  {
   "cell_type": "code",
   "execution_count": 46,
   "id": "3e184b14-11f3-4401-b969-e60a8e3548de",
   "metadata": {},
   "outputs": [
    {
     "name": "stdout",
     "output_type": "stream",
     "text": [
      "77M\tfloats.bin\n"
     ]
    }
   ],
   "source": [
    "! du floats.bin -h"
   ]
  },
  {
   "cell_type": "code",
   "execution_count": 52,
   "id": "adfaa1cc-3b54-478a-a837-e84520e4efea",
   "metadata": {},
   "outputs": [
    {
     "data": {
      "text/plain": [
       "[0, 1, 2, 3, 4, 5]"
      ]
     },
     "execution_count": 52,
     "metadata": {},
     "output_type": "execute_result"
    }
   ],
   "source": [
    "octets = array('B', range(6))\n",
    "m1 = memoryview(octets)\n",
    "m1.tolist()"
   ]
  },
  {
   "cell_type": "code",
   "execution_count": 53,
   "id": "4e94e7b4-f9f2-4e54-9140-fd4edbe58cdb",
   "metadata": {},
   "outputs": [
    {
     "data": {
      "text/plain": [
       "[[0, 1, 2], [3, 4, 5]]"
      ]
     },
     "execution_count": 53,
     "metadata": {},
     "output_type": "execute_result"
    }
   ],
   "source": [
    "m2 = m1.cast('B', [2,3])\n",
    "m2.tolist()"
   ]
  },
  {
   "cell_type": "code",
   "execution_count": 54,
   "id": "b826a0ea-117c-4006-a538-b1ad75a48c34",
   "metadata": {},
   "outputs": [
    {
     "data": {
      "text/plain": [
       "[[0, 1], [2, 3], [4, 5]]"
      ]
     },
     "execution_count": 54,
     "metadata": {},
     "output_type": "execute_result"
    }
   ],
   "source": [
    "m3 = m1.cast('B', [3,2])\n",
    "m3.tolist()"
   ]
  },
  {
   "cell_type": "code",
   "execution_count": 55,
   "id": "2bbb516b-0514-4ac3-98d4-cb650568607d",
   "metadata": {},
   "outputs": [
    {
     "data": {
      "text/plain": [
       "array('B', [0, 1, 2, 33, 22, 5])"
      ]
     },
     "execution_count": 55,
     "metadata": {},
     "output_type": "execute_result"
    }
   ],
   "source": [
    "m2[1,1] = 22\n",
    "m3[1,1] = 33\n",
    "octets"
   ]
  },
  {
   "cell_type": "markdown",
   "id": "7169f6b2-75b3-420e-9643-54b1e1e1c1d8",
   "metadata": {},
   "source": [
    "### Deques and Other Queues "
   ]
  },
  {
   "cell_type": "code",
   "execution_count": 65,
   "id": "6d9feebb-ae81-49b3-8080-8eaed95b638a",
   "metadata": {},
   "outputs": [
    {
     "data": {
      "text/plain": [
       "deque([40, 30, 20, 10, 3, 4, 5, 6, 7, 8], maxlen=10)"
      ]
     },
     "execution_count": 65,
     "metadata": {},
     "output_type": "execute_result"
    }
   ],
   "source": [
    ">>> from collections import deque\n",
    ">>> dq = deque(range(10), maxlen=10)\n",
    ">>> dq\n",
    "deque([0, 1, 2, 3, 4, 5, 6, 7, 8, 9], maxlen=10)\n",
    ">>> dq.rotate(3)\n",
    ">>> dq\n",
    "deque([7, 8, 9, 0, 1, 2, 3, 4, 5, 6], maxlen=10)\n",
    ">>> dq.rotate(-4)\n",
    ">>> dq\n",
    "deque([1, 2, 3, 4, 5, 6, 7, 8, 9, 0], maxlen=10)\n",
    ">>> dq.appendleft(-1)\n",
    ">>> dq\n",
    "deque([-1, 1, 2, 3, 4, 5, 6, 7, 8, 9], maxlen=10)\n",
    ">>> dq.extend([11, 22, 33])\n",
    ">>> dq\n",
    "deque([3, 4, 5, 6, 7, 8, 9, 11, 22, 33], maxlen=10)\n",
    ">>> dq.extendleft([10, 20, 30, 40])\n",
    ">>> dq\n",
    "deque([40, 30, 20, 10, 3, 4, 5, 6, 7, 8], maxlen=10)"
   ]
  },
  {
   "cell_type": "code",
   "execution_count": 68,
   "id": "d486dbcc-160a-43b4-a83b-3bbbf1fa9c4a",
   "metadata": {},
   "outputs": [
    {
     "data": {
      "text/plain": [
       "deque([20, 10, 3, 4, 5, 6, 7, 8], maxlen=10)"
      ]
     },
     "execution_count": 68,
     "metadata": {},
     "output_type": "execute_result"
    }
   ],
   "source": [
    "dq.popleft();dq"
   ]
  },
  {
   "cell_type": "markdown",
   "id": "c94ecdb3-51a6-4b81-a30a-e4638407c3ee",
   "metadata": {},
   "source": [
    "# Chapter 3. Dictionaries and Sets"
   ]
  },
  {
   "cell_type": "markdown",
   "id": "fb6139cd-a08e-4e3e-a84f-4c74fd7918cd",
   "metadata": {},
   "source": [
    "### Comprehensions"
   ]
  },
  {
   "cell_type": "code",
   "execution_count": 1,
   "id": "24d368d5-df00-4d0d-a72c-cd402c1514c9",
   "metadata": {},
   "outputs": [
    {
     "data": {
      "text/plain": [
       "{'Bangladesh': 880,\n",
       " 'Brazil': 55,\n",
       " 'China': 86,\n",
       " 'India': 91,\n",
       " 'Indonesia': 62,\n",
       " 'Japan': 81,\n",
       " 'Nigeria': 234,\n",
       " 'Pakistan': 92}"
      ]
     },
     "execution_count": 1,
     "metadata": {},
     "output_type": "execute_result"
    }
   ],
   "source": [
    "dial_codes = [\n",
    "... (880, 'Bangladesh'),\n",
    "... (55, 'Brazil'),\n",
    "... (86, 'China'),\n",
    "... (91, 'India'),\n",
    "... (62, 'Indonesia'),\n",
    "... (81, 'Japan'),\n",
    "... (234, 'Nigeria'),\n",
    "... (92, 'Pakistan'),\n",
    "... (7, 'Russia'),\n",
    "... (1, 'United States'),\n",
    "... ]\n",
    "\n",
    "country_dial = {k:v for v,k in dial_codes if v >20}\n",
    "country_dial"
   ]
  },
  {
   "cell_type": "code",
   "execution_count": 2,
   "id": "e3013df3-2245-4dee-88fa-a71f312468da",
   "metadata": {},
   "outputs": [
    {
     "data": {
      "text/plain": [
       "{'x': 1, 'y': 2, 'z': 3, 'zz': 33}"
      ]
     },
     "execution_count": 2,
     "metadata": {},
     "output_type": "execute_result"
    }
   ],
   "source": [
    "def dump(**kwargs):\n",
    "    return kwargs\n",
    "\n",
    "dump(**{'x': 1}, y=2, **{'z': 3, 'zz':33})\n"
   ]
  },
  {
   "cell_type": "markdown",
   "id": "97e75400-6659-4eb5-a74c-d757c53ac818",
   "metadata": {},
   "source": [
    "### Merging Mappings with |"
   ]
  },
  {
   "cell_type": "code",
   "execution_count": 3,
   "id": "ba3417f8-06a8-47c6-85c7-8dcc0bdbc43b",
   "metadata": {},
   "outputs": [
    {
     "data": {
      "text/plain": [
       "{'a': 2, 'b': 4, 'c': 6}"
      ]
     },
     "execution_count": 3,
     "metadata": {},
     "output_type": "execute_result"
    }
   ],
   "source": [
    "d1 = {'a': 1, 'b': 3}\n",
    "d2 = {'a': 2, 'b': 4, 'c': 6}\n",
    "d1 | d2\n",
    "{'a': 2, 'b': 4, 'c': 6}"
   ]
  },
  {
   "cell_type": "markdown",
   "id": "b339b65d-93bc-4dee-94e8-5fbd92f55aac",
   "metadata": {},
   "source": [
    "### Pattern Matching with Mappings"
   ]
  },
  {
   "cell_type": "markdown",
   "id": "b0410119-b20f-4ef9-9a35-02c8f5b2eed1",
   "metadata": {},
   "source": [
    "Following each expression, an optional type conversion may be specified. The allowed conversions are '!s', '!r', or '!a'. These are treated the same as in str.format(): '!s' calls str() on the expression, '!r' calls repr() on the expression, and '!a' calls ascii() on the expression."
   ]
  },
  {
   "cell_type": "code",
   "execution_count": 8,
   "id": "5fdc4a25-72b2-4a1e-aefa-ca66467d2ee1",
   "metadata": {},
   "outputs": [],
   "source": [
    "def get_creators(record: dict) -> list:\n",
    "    match record:\n",
    "        case {'type': 'book', 'api':2, 'authors': [*names]}:\n",
    "            return names\n",
    "        case {'type': 'book', 'api':1, 'author': name}:\n",
    "            return [name]\n",
    "        case {'type': 'book'}:\n",
    "            raise ValueError(f\"Invalid 'book' record: {record!r}\")\n",
    "        case {'type': 'movie', 'director': name}:\n",
    "            return [name]\n",
    "        case _:\n",
    "            raise ValueError(f'Invalid record: {record!r}')"
   ]
  },
  {
   "cell_type": "code",
   "execution_count": 5,
   "id": "157e58c6-cf26-4136-9efe-4f8d75e0f08d",
   "metadata": {},
   "outputs": [
    {
     "data": {
      "text/plain": [
       "['Douglas Hofstadter']"
      ]
     },
     "execution_count": 5,
     "metadata": {},
     "output_type": "execute_result"
    }
   ],
   "source": [
    "b1 = dict(api=1, author='Douglas Hofstadter',\n",
    "    type='book', title='Gödel, Escher, Bach')\n",
    "get_creators(b1)"
   ]
  },
  {
   "cell_type": "code",
   "execution_count": 6,
   "id": "319fa8cb-ec5b-49bc-b631-c66244c391de",
   "metadata": {},
   "outputs": [
    {
     "data": {
      "text/plain": [
       "['Martelli', 'Ravenscroft', 'Holden']"
      ]
     },
     "execution_count": 6,
     "metadata": {},
     "output_type": "execute_result"
    }
   ],
   "source": [
    "from collections import OrderedDict\n",
    "b2 = OrderedDict(api=2, type='book',\n",
    "    title='Python in a Nutshell',\n",
    "    authors='Martelli Ravenscroft Holden'.split())\n",
    "get_creators(b2)"
   ]
  },
  {
   "cell_type": "code",
   "execution_count": 7,
   "id": "92e5a01d-0866-47b4-8214-f9c1fef5ba6c",
   "metadata": {
    "scrolled": true
   },
   "outputs": [
    {
     "ename": "ValueError",
     "evalue": "Invalid 'book' record: {'type': 'book', 'pages': 770}",
     "output_type": "error",
     "traceback": [
      "\u001b[0;31m---------------------------------------------------------------------------\u001b[0m",
      "\u001b[0;31mValueError\u001b[0m                                Traceback (most recent call last)",
      "Cell \u001b[0;32mIn[7], line 1\u001b[0m\n\u001b[0;32m----> 1\u001b[0m \u001b[43mget_creators\u001b[49m\u001b[43m(\u001b[49m\u001b[43m{\u001b[49m\u001b[38;5;124;43m'\u001b[39;49m\u001b[38;5;124;43mtype\u001b[39;49m\u001b[38;5;124;43m'\u001b[39;49m\u001b[43m:\u001b[49m\u001b[43m \u001b[49m\u001b[38;5;124;43m'\u001b[39;49m\u001b[38;5;124;43mbook\u001b[39;49m\u001b[38;5;124;43m'\u001b[39;49m\u001b[43m,\u001b[49m\u001b[43m \u001b[49m\u001b[38;5;124;43m'\u001b[39;49m\u001b[38;5;124;43mpages\u001b[39;49m\u001b[38;5;124;43m'\u001b[39;49m\u001b[43m:\u001b[49m\u001b[43m \u001b[49m\u001b[38;5;241;43m770\u001b[39;49m\u001b[43m}\u001b[49m\u001b[43m)\u001b[49m\n",
      "Cell \u001b[0;32mIn[4], line 8\u001b[0m, in \u001b[0;36mget_creators\u001b[0;34m(record)\u001b[0m\n\u001b[1;32m      6\u001b[0m     \u001b[38;5;28;01mreturn\u001b[39;00m [name]\n\u001b[1;32m      7\u001b[0m \u001b[38;5;28;01mcase\u001b[39;00m {\u001b[38;5;124m'\u001b[39m\u001b[38;5;124mtype\u001b[39m\u001b[38;5;124m'\u001b[39m: \u001b[38;5;124m'\u001b[39m\u001b[38;5;124mbook\u001b[39m\u001b[38;5;124m'\u001b[39m}:\n\u001b[0;32m----> 8\u001b[0m     \u001b[38;5;28;01mraise\u001b[39;00m \u001b[38;5;167;01mValueError\u001b[39;00m(\u001b[38;5;124mf\u001b[39m\u001b[38;5;124m\"\u001b[39m\u001b[38;5;124mInvalid \u001b[39m\u001b[38;5;124m'\u001b[39m\u001b[38;5;124mbook\u001b[39m\u001b[38;5;124m'\u001b[39m\u001b[38;5;124m record: \u001b[39m\u001b[38;5;132;01m{\u001b[39;00mrecord\u001b[38;5;132;01m!r}\u001b[39;00m\u001b[38;5;124m\"\u001b[39m)\n\u001b[1;32m      9\u001b[0m \u001b[38;5;28;01mcase\u001b[39;00m {\u001b[38;5;124m'\u001b[39m\u001b[38;5;124mtype\u001b[39m\u001b[38;5;124m'\u001b[39m: \u001b[38;5;124m'\u001b[39m\u001b[38;5;124mmovie\u001b[39m\u001b[38;5;124m'\u001b[39m, \u001b[38;5;124m'\u001b[39m\u001b[38;5;124mdirector\u001b[39m\u001b[38;5;124m'\u001b[39m: name}:\n\u001b[1;32m     10\u001b[0m     \u001b[38;5;28;01mreturn\u001b[39;00m [name]\n",
      "\u001b[0;31mValueError\u001b[0m: Invalid 'book' record: {'type': 'book', 'pages': 770}"
     ]
    }
   ],
   "source": [
    "get_creators({'type': 'book', 'pages': 770})"
   ]
  },
  {
   "cell_type": "code",
   "execution_count": 9,
   "id": "323c3922-10ac-410e-a9e4-bdf23fc69e23",
   "metadata": {},
   "outputs": [
    {
     "data": {
      "text/plain": [
       "True"
      ]
     },
     "execution_count": 9,
     "metadata": {},
     "output_type": "execute_result"
    }
   ],
   "source": [
    "from collections import abc\n",
    "my_dict = {}\n",
    "isinstance(my_dict, abc.Mapping)"
   ]
  },
  {
   "cell_type": "markdown",
   "id": "7652a1f1-dd68-47ef-a455-133fb63f9240",
   "metadata": {},
   "source": [
    "### What Is Hashable"
   ]
  },
  {
   "cell_type": "code",
   "execution_count": 10,
   "id": "b0ddfee1-963b-4c7c-819c-670ff587d76a",
   "metadata": {},
   "outputs": [
    {
     "data": {
      "text/plain": [
       "-3907003130834322577"
      ]
     },
     "execution_count": 10,
     "metadata": {},
     "output_type": "execute_result"
    }
   ],
   "source": [
    "tt = (1, 2, (30, 40))\n",
    "hash(tt)"
   ]
  },
  {
   "cell_type": "code",
   "execution_count": 11,
   "id": "781b0981-543b-4e15-b481-7e1a52af5dd9",
   "metadata": {},
   "outputs": [
    {
     "ename": "TypeError",
     "evalue": "unhashable type: 'list'",
     "output_type": "error",
     "traceback": [
      "\u001b[0;31m---------------------------------------------------------------------------\u001b[0m",
      "\u001b[0;31mTypeError\u001b[0m                                 Traceback (most recent call last)",
      "Cell \u001b[0;32mIn[11], line 1\u001b[0m\n\u001b[0;32m----> 1\u001b[0m \u001b[38;5;28;43mhash\u001b[39;49m\u001b[43m(\u001b[49m\u001b[43m(\u001b[49m\u001b[38;5;124;43m'\u001b[39;49m\u001b[38;5;124;43ma\u001b[39;49m\u001b[38;5;124;43m'\u001b[39;49m\u001b[43m,\u001b[49m\u001b[43m[\u001b[49m\u001b[38;5;241;43m2\u001b[39;49m\u001b[43m]\u001b[49m\u001b[43m)\u001b[49m\u001b[43m)\u001b[49m\n",
      "\u001b[0;31mTypeError\u001b[0m: unhashable type: 'list'"
     ]
    }
   ],
   "source": [
    "hash(('a',[2]))"
   ]
  },
  {
   "cell_type": "code",
   "execution_count": null,
   "id": "01dfd832-b78f-4cd0-b218-321775e04b7c",
   "metadata": {},
   "outputs": [],
   "source": []
  },
  {
   "cell_type": "code",
   "execution_count": 12,
   "id": "852f6ba0-345f-44d5-9888-880dc14d9ead",
   "metadata": {},
   "outputs": [
    {
     "data": {
      "text/plain": [
       "['apple', 'be', 'Bee', 'zen']"
      ]
     },
     "execution_count": 12,
     "metadata": {},
     "output_type": "execute_result"
    }
   ],
   "source": [
    "l = ['be', 'Bee', 'apple', 'zen']\n",
    "sorted(l, key=str.upper)"
   ]
  },
  {
   "cell_type": "code",
   "execution_count": 13,
   "id": "2a44a04d-93f4-43d2-8825-aecfc11623c0",
   "metadata": {},
   "outputs": [
    {
     "data": {
      "text/plain": [
       "list"
      ]
     },
     "execution_count": 13,
     "metadata": {},
     "output_type": "execute_result"
    }
   ],
   "source": [
    "import collections\n",
    "index = collections.defaultdict(list)\n",
    "index[2] = 'a'\n",
    "index.default_factory"
   ]
  },
  {
   "cell_type": "markdown",
   "id": "ff63e93e-1cb7-4fa2-b896-22fc65bcccc9",
   "metadata": {},
   "source": [
    "### The `__missing__` Method"
   ]
  },
  {
   "cell_type": "code",
   "execution_count": 14,
   "id": "f90796e4-313a-4b41-bd01-7e1b8a7257c6",
   "metadata": {},
   "outputs": [],
   "source": [
    "class StrKeyDict0(dict):\n",
    "    def __missing__(self, key):\n",
    "        if isinstance(key, str):\n",
    "            raise KeyError(key)\n",
    "        return self[str(key)]\n",
    "\n",
    "    def get(self, key, default=None):\n",
    "        try:\n",
    "            return self[key]\n",
    "        except KeyError:\n",
    "            return default\n",
    "\n",
    "    def __contains__(self, key):\n",
    "        return key in self.keys() or str(key) in self.keys()"
   ]
  },
  {
   "cell_type": "code",
   "execution_count": 15,
   "id": "0bdc6822-a4b3-447c-9ec6-d51b01a515ee",
   "metadata": {},
   "outputs": [
    {
     "name": "stdout",
     "output_type": "stream",
     "text": [
      "two\n",
      "four\n"
     ]
    },
    {
     "ename": "KeyError",
     "evalue": "'1'",
     "output_type": "error",
     "traceback": [
      "\u001b[0;31m---------------------------------------------------------------------------\u001b[0m",
      "\u001b[0;31mKeyError\u001b[0m                                  Traceback (most recent call last)",
      "Cell \u001b[0;32mIn[15], line 4\u001b[0m\n\u001b[1;32m      2\u001b[0m \u001b[38;5;28mprint\u001b[39m(d[\u001b[38;5;124m'\u001b[39m\u001b[38;5;124m2\u001b[39m\u001b[38;5;124m'\u001b[39m])\n\u001b[1;32m      3\u001b[0m \u001b[38;5;28mprint\u001b[39m(d[\u001b[38;5;241m4\u001b[39m])\n\u001b[0;32m----> 4\u001b[0m \u001b[38;5;28mprint\u001b[39m(\u001b[43md\u001b[49m\u001b[43m[\u001b[49m\u001b[38;5;241;43m1\u001b[39;49m\u001b[43m]\u001b[49m)\n",
      "Cell \u001b[0;32mIn[14], line 5\u001b[0m, in \u001b[0;36mStrKeyDict0.__missing__\u001b[0;34m(self, key)\u001b[0m\n\u001b[1;32m      3\u001b[0m \u001b[38;5;28;01mif\u001b[39;00m \u001b[38;5;28misinstance\u001b[39m(key, \u001b[38;5;28mstr\u001b[39m):\n\u001b[1;32m      4\u001b[0m     \u001b[38;5;28;01mraise\u001b[39;00m \u001b[38;5;167;01mKeyError\u001b[39;00m(key)\n\u001b[0;32m----> 5\u001b[0m \u001b[38;5;28;01mreturn\u001b[39;00m \u001b[38;5;28;43mself\u001b[39;49m\u001b[43m[\u001b[49m\u001b[38;5;28;43mstr\u001b[39;49m\u001b[43m(\u001b[49m\u001b[43mkey\u001b[49m\u001b[43m)\u001b[49m\u001b[43m]\u001b[49m\n",
      "Cell \u001b[0;32mIn[14], line 4\u001b[0m, in \u001b[0;36mStrKeyDict0.__missing__\u001b[0;34m(self, key)\u001b[0m\n\u001b[1;32m      2\u001b[0m \u001b[38;5;28;01mdef\u001b[39;00m \u001b[38;5;21m__missing__\u001b[39m(\u001b[38;5;28mself\u001b[39m, key):\n\u001b[1;32m      3\u001b[0m     \u001b[38;5;28;01mif\u001b[39;00m \u001b[38;5;28misinstance\u001b[39m(key, \u001b[38;5;28mstr\u001b[39m):\n\u001b[0;32m----> 4\u001b[0m         \u001b[38;5;28;01mraise\u001b[39;00m \u001b[38;5;167;01mKeyError\u001b[39;00m(key)\n\u001b[1;32m      5\u001b[0m     \u001b[38;5;28;01mreturn\u001b[39;00m \u001b[38;5;28mself\u001b[39m[\u001b[38;5;28mstr\u001b[39m(key)]\n",
      "\u001b[0;31mKeyError\u001b[0m: '1'"
     ]
    }
   ],
   "source": [
    "d = StrKeyDict0([('2', 'two'), ('4', 'four')])\n",
    "print(d['2'])\n",
    "print(d[4])\n",
    "print(d[1])"
   ]
  },
  {
   "cell_type": "code",
   "execution_count": 16,
   "id": "3489a845-b1a7-4ad1-ba49-d23de03c0bbf",
   "metadata": {},
   "outputs": [],
   "source": [
    "class StrKeyDict0(collections.UserDict):\n",
    "    def __missing__(self, key):\n",
    "        if isinstance(key, str):\n",
    "            raise KeyError(key)\n",
    "        return self[str(key)]\n",
    "\n",
    "    def __contains__(self, key): return str(key) in self.data\n",
    "\n",
    "    def __setitem__(self, key, item): self.data[str(key)] = item"
   ]
  },
  {
   "cell_type": "markdown",
   "id": "a7f7c9d4-5519-44c5-8648-993c3f010b01",
   "metadata": {},
   "source": [
    "### Chapter 4. Unicode Text Versus Bytes"
   ]
  },
  {
   "cell_type": "code",
   "execution_count": 26,
   "id": "7bdb3edc-7c82-48cf-9873-be3f2af52748",
   "metadata": {},
   "outputs": [],
   "source": [
    "from unicodedata import normalize, name"
   ]
  },
  {
   "cell_type": "code",
   "execution_count": 22,
   "id": "c72aa0ee-1717-4808-8b32-7be93ee5ea47",
   "metadata": {},
   "outputs": [
    {
     "data": {
      "text/plain": [
       "b'caf\\xc3\\xa9'"
      ]
     },
     "execution_count": 22,
     "metadata": {},
     "output_type": "execute_result"
    }
   ],
   "source": [
    "s = 'café'\n",
    "len(s)\n",
    "b = s.encode('utf8')\n",
    "b"
   ]
  },
  {
   "cell_type": "code",
   "execution_count": 23,
   "id": "d38fabf5-cae1-404d-ae60-ade7b2d7c674",
   "metadata": {},
   "outputs": [
    {
     "data": {
      "text/plain": [
       "'café'"
      ]
     },
     "execution_count": 23,
     "metadata": {},
     "output_type": "execute_result"
    }
   ],
   "source": [
    "'cafe\\N{COMBINING ACUTE ACCENT}'"
   ]
  },
  {
   "cell_type": "code",
   "execution_count": 25,
   "id": "464940f5-0f4e-438b-8c86-8b1c4a81da82",
   "metadata": {},
   "outputs": [
    {
     "ename": "SyntaxError",
     "evalue": "(unicode error) 'unicodeescape' codec can't decode bytes in position 0-4: unknown Unicode character name (2924340733.py, line 1)",
     "output_type": "error",
     "traceback": [
      "\u001b[0;36m  Cell \u001b[0;32mIn[25], line 1\u001b[0;36m\u001b[0m\n\u001b[0;31m    '\\N{a}'\u001b[0m\n\u001b[0m    ^\u001b[0m\n\u001b[0;31mSyntaxError\u001b[0m\u001b[0;31m:\u001b[0m (unicode error) 'unicodeescape' codec can't decode bytes in position 0-4: unknown Unicode character name\n"
     ]
    }
   ],
   "source": [
    "'\\N{a}'"
   ]
  },
  {
   "cell_type": "code",
   "execution_count": 28,
   "id": "c37321df-a2a1-44b5-b5da-aaa07a64931a",
   "metadata": {},
   "outputs": [
    {
     "data": {
      "text/plain": [
       "'DIGIT ONE'"
      ]
     },
     "execution_count": 28,
     "metadata": {},
     "output_type": "execute_result"
    }
   ],
   "source": [
    "name('1')"
   ]
  },
  {
   "cell_type": "code",
   "execution_count": 30,
   "id": "a94380f7-27b3-4db6-ae9a-df155586bbf7",
   "metadata": {},
   "outputs": [
    {
     "data": {
      "text/plain": [
       "'½'"
      ]
     },
     "execution_count": 30,
     "metadata": {},
     "output_type": "execute_result"
    }
   ],
   "source": [
    "half = '\\N{VULGAR FRACTION ONE HALF}'\n",
    "half"
   ]
  },
  {
   "cell_type": "code",
   "execution_count": 36,
   "id": "a89a64e2-42e7-4b40-8f8f-4e3ce296a8d2",
   "metadata": {},
   "outputs": [
    {
     "name": "stdout",
     "output_type": "stream",
     "text": [
      "1\tDIGIT ONE\n",
      "⁄\tFRACTION SLASH\n",
      "2\tDIGIT TWO\n"
     ]
    }
   ],
   "source": [
    "for digit in normalize('NFKC',half): print(digit, name(digit), sep='\\t')"
   ]
  },
  {
   "cell_type": "code",
   "execution_count": 38,
   "id": "c590f4eb-1e08-4113-bf85-1df515748249",
   "metadata": {},
   "outputs": [
    {
     "data": {
      "text/plain": [
       "'GRINNING CAT FACE WITH SMILING EYES'"
      ]
     },
     "execution_count": 38,
     "metadata": {},
     "output_type": "execute_result"
    }
   ],
   "source": [
    "name(\"😸\")"
   ]
  },
  {
   "cell_type": "code",
   "execution_count": 41,
   "id": "f813e757-db3f-4113-8604-f667cc5946ab",
   "metadata": {},
   "outputs": [],
   "source": [
    "import sys\n",
    "import unicodedata\n",
    "START, END = ord(' '), sys.maxunicode + 1\n",
    "def find(*query_words, start=START, end=END):\n",
    "    query = {w.upper() for w in query_words}\n",
    "    for code in range(start, end):\n",
    "        char = chr(code)\n",
    "        name = unicodedata.name(char, None)\n",
    "        if name and query.issubset(name.split()):\n",
    "            print(f'U+{code:04X}\\t{char}\\t{name}')"
   ]
  },
  {
   "cell_type": "code",
   "execution_count": 47,
   "id": "14b5420b-f55b-4782-b285-ec2c3249a040",
   "metadata": {},
   "outputs": [
    {
     "name": "stdout",
     "output_type": "stream",
     "text": [
      "U+1F34E\t🍎\tRED APPLE\n",
      "U+1F34F\t🍏\tGREEN APPLE\n"
     ]
    }
   ],
   "source": [
    "find(\"apple\")"
   ]
  },
  {
   "cell_type": "code",
   "execution_count": 65,
   "id": "5bb0cc81-cc3d-4057-81f7-a6c8d9dd9ee0",
   "metadata": {},
   "outputs": [
    {
     "name": "stdout",
     "output_type": "stream",
     "text": [
      "U+0031\t  1   \tre_dig\tisdig\tisnum\t 1.00\tDIGIT ONE\n",
      "U+00bc\t  ¼   \t-\t-\tisnum\t 0.25\tVULGAR FRACTION ONE QUARTER\n",
      "U+00b2\t  ²   \t-\tisdig\tisnum\t 2.00\tSUPERSCRIPT TWO\n",
      "U+0969\t  ३   \tre_dig\tisdig\tisnum\t 3.00\tDEVANAGARI DIGIT THREE\n",
      "U+136b\t  ፫   \t-\tisdig\tisnum\t 3.00\tETHIOPIC DIGIT THREE\n",
      "U+216b\t  Ⅻ   \t-\t-\tisnum\t12.00\tROMAN NUMERAL TWELVE\n",
      "U+2466\t  ⑦   \t-\tisdig\tisnum\t 7.00\tCIRCLED DIGIT SEVEN\n",
      "U+2480\t  ⒀   \t-\t-\tisnum\t13.00\tPARENTHESIZED NUMBER THIRTEEN\n",
      "U+3285\t  ㊅   \t-\t-\tisnum\t 6.00\tCIRCLED IDEOGRAPH SIX\n"
     ]
    }
   ],
   "source": [
    "import re, regex\n",
    "# re_digit = re.compile(r'\\d')\n",
    "re_digit = regex.compile(r'\\d')\n",
    "sample = '1\\xbc\\xb2\\u0969\\u136b\\u216b\\u2466\\u2480\\u3285'\n",
    "for char in sample:\n",
    "    print(f'U+{ord(char):04x}',\n",
    "    char.center(6),\n",
    "    're_dig' if re_digit.match(char) else '-',\n",
    "    'isdig' if char.isdigit() else '-',\n",
    "    'isnum' if char.isnumeric() else '-',\n",
    "    f'{unicodedata.numeric(char):5.2f}',\n",
    "    unicodedata.name(char),\n",
    "    sep='\\t')"
   ]
  },
  {
   "cell_type": "code",
   "execution_count": null,
   "id": "c476c9df-cd03-4773-a979-5919e2092603",
   "metadata": {},
   "outputs": [],
   "source": []
  },
  {
   "cell_type": "code",
   "execution_count": null,
   "id": "ac8b89d5-a6d8-4b97-b7f1-70d52857800f",
   "metadata": {},
   "outputs": [],
   "source": []
  },
  {
   "cell_type": "code",
   "execution_count": null,
   "id": "9f495c6a-5641-43e7-898f-b1789b2afc63",
   "metadata": {},
   "outputs": [],
   "source": []
  }
 ],
 "metadata": {
  "kernelspec": {
   "display_name": "Python 3 (ipykernel)",
   "language": "python",
   "name": "python3"
  },
  "language_info": {
   "codemirror_mode": {
    "name": "ipython",
    "version": 3
   },
   "file_extension": ".py",
   "mimetype": "text/x-python",
   "name": "python",
   "nbconvert_exporter": "python",
   "pygments_lexer": "ipython3",
   "version": "3.12.8"
  }
 },
 "nbformat": 4,
 "nbformat_minor": 5
}
