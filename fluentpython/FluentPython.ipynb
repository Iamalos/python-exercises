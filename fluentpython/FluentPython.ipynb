{
 "cells": [
  {
   "cell_type": "markdown",
   "id": "9c4aee65-b77e-424f-bdf9-92f17ff7d4a3",
   "metadata": {},
   "source": [
    "# Chapter 1"
   ]
  },
  {
   "cell_type": "code",
   "execution_count": 34,
   "id": "a0bae156-e18a-45a6-9e90-2cf44b5ce9f0",
   "metadata": {},
   "outputs": [],
   "source": [
    "import collections\n",
    "\n",
    "Card = collections.namedtuple('Card', ['rank', 'suit'])\n",
    "\n",
    "class FrenchDeck:\n",
    "    ranks = [str(n) for n in range(2,11)]+list('JQKA')\n",
    "    suits = 'spades diamonds clubs hearts'.split()\n",
    "\n",
    "    def __init__(self):\n",
    "        self._cards = [Card(rank, suit) for suit in self.suits \n",
    "                       for rank in self.ranks]\n",
    "\n",
    "    def __len__(self): return len(self._cards)\n",
    "\n",
    "    def __getitem__(self, position): return self._cards[position]"
   ]
  },
  {
   "cell_type": "code",
   "execution_count": 35,
   "id": "a9f0c5d0-2aa6-45d4-946c-3dbd9cb193b2",
   "metadata": {},
   "outputs": [
    {
     "data": {
      "text/plain": [
       "Card(rank='7', suit='diamonds')"
      ]
     },
     "execution_count": 35,
     "metadata": {},
     "output_type": "execute_result"
    }
   ],
   "source": [
    "beer_card = Card('7', 'diamonds')\n",
    "beer_card"
   ]
  },
  {
   "cell_type": "code",
   "execution_count": 36,
   "id": "44ab78ab-2b30-4133-8cf5-d72f0d622acd",
   "metadata": {},
   "outputs": [
    {
     "data": {
      "text/plain": [
       "Card(rank='2', suit='spades')"
      ]
     },
     "execution_count": 36,
     "metadata": {},
     "output_type": "execute_result"
    }
   ],
   "source": [
    "deck = FrenchDeck()\n",
    "deck[0]"
   ]
  },
  {
   "cell_type": "code",
   "execution_count": 37,
   "id": "6c9ab9dc-70dc-472e-94b7-2db576ed66ec",
   "metadata": {},
   "outputs": [
    {
     "data": {
      "text/plain": [
       "Card(rank='4', suit='hearts')"
      ]
     },
     "execution_count": 37,
     "metadata": {},
     "output_type": "execute_result"
    }
   ],
   "source": [
    "from random import choice\n",
    "\n",
    "choice(deck)"
   ]
  },
  {
   "cell_type": "code",
   "execution_count": 38,
   "id": "e4f25716-c822-4506-9e6d-f79dde6a2e6e",
   "metadata": {},
   "outputs": [
    {
     "data": {
      "text/plain": [
       "Card(rank='10', suit='diamonds')"
      ]
     },
     "execution_count": 38,
     "metadata": {},
     "output_type": "execute_result"
    }
   ],
   "source": [
    "choice(deck)"
   ]
  },
  {
   "cell_type": "code",
   "execution_count": 39,
   "id": "7672fbdc-3005-4d92-946f-666fb1dad78a",
   "metadata": {},
   "outputs": [
    {
     "data": {
      "text/plain": [
       "[Card(rank='2', suit='spades'),\n",
       " Card(rank='3', suit='spades'),\n",
       " Card(rank='4', suit='spades')]"
      ]
     },
     "execution_count": 39,
     "metadata": {},
     "output_type": "execute_result"
    }
   ],
   "source": [
    "deck[:3]"
   ]
  },
  {
   "cell_type": "markdown",
   "id": "97668d5a-e160-47c1-97a6-c5e6b1b2a916",
   "metadata": {},
   "source": [
    "Does a linear scan. Alternatively we could have implemented `__contains__` method"
   ]
  },
  {
   "cell_type": "code",
   "execution_count": 40,
   "id": "8545a51e-e3a5-46cb-b729-f044aab49526",
   "metadata": {},
   "outputs": [
    {
     "data": {
      "text/plain": [
       "True"
      ]
     },
     "execution_count": 40,
     "metadata": {},
     "output_type": "execute_result"
    }
   ],
   "source": [
    "Card('Q', 'hearts') in deck"
   ]
  },
  {
   "cell_type": "code",
   "execution_count": 41,
   "id": "9103f369-5ac8-44af-b62b-afdbfe665e7f",
   "metadata": {},
   "outputs": [
    {
     "data": {
      "text/plain": [
       "{'spades': 3, 'hearts': 2, 'diamonds': 1, 'clubs': 0}"
      ]
     },
     "execution_count": 41,
     "metadata": {},
     "output_type": "execute_result"
    }
   ],
   "source": [
    "suit_values = dict(spades=3, hearts=2, diamonds=1, clubs=0)\n",
    "suit_values"
   ]
  },
  {
   "cell_type": "code",
   "execution_count": 42,
   "id": "fb6c43e3-86f3-4ce6-990e-d39f4424f91d",
   "metadata": {},
   "outputs": [],
   "source": [
    "def spades_high(card):\n",
    "    rank_value = FrenchDeck.ranks.index(card.rank)\n",
    "    return rank_value * len(suit_values) + suit_values[card.suit]"
   ]
  },
  {
   "cell_type": "code",
   "execution_count": 43,
   "id": "bdd83982-cbd3-4ad3-8850-da91a4f9cc71",
   "metadata": {},
   "outputs": [
    {
     "data": {
      "text/plain": [
       "12"
      ]
     },
     "execution_count": 43,
     "metadata": {},
     "output_type": "execute_result"
    }
   ],
   "source": [
    "FrenchDeck.ranks.index('A')"
   ]
  },
  {
   "cell_type": "code",
   "execution_count": 44,
   "id": "ab0b9c42-90d0-47a6-904e-71f7f33757eb",
   "metadata": {
    "scrolled": true
   },
   "outputs": [
    {
     "data": {
      "text/plain": [
       "0"
      ]
     },
     "execution_count": 44,
     "metadata": {},
     "output_type": "execute_result"
    }
   ],
   "source": [
    "spades_high(Card('2','clubs'))"
   ]
  },
  {
   "cell_type": "code",
   "execution_count": 45,
   "id": "68d24123-e03e-4b94-82ae-dc9c3064bd9e",
   "metadata": {
    "scrolled": true
   },
   "outputs": [
    {
     "data": {
      "text/plain": [
       "[Card(rank='2', suit='clubs'),\n",
       " Card(rank='2', suit='diamonds'),\n",
       " Card(rank='2', suit='hearts'),\n",
       " Card(rank='2', suit='spades'),\n",
       " Card(rank='3', suit='clubs'),\n",
       " Card(rank='3', suit='diamonds'),\n",
       " Card(rank='3', suit='hearts'),\n",
       " Card(rank='3', suit='spades'),\n",
       " Card(rank='4', suit='clubs'),\n",
       " Card(rank='4', suit='diamonds'),\n",
       " Card(rank='4', suit='hearts'),\n",
       " Card(rank='4', suit='spades'),\n",
       " Card(rank='5', suit='clubs'),\n",
       " Card(rank='5', suit='diamonds'),\n",
       " Card(rank='5', suit='hearts'),\n",
       " Card(rank='5', suit='spades'),\n",
       " Card(rank='6', suit='clubs'),\n",
       " Card(rank='6', suit='diamonds'),\n",
       " Card(rank='6', suit='hearts'),\n",
       " Card(rank='6', suit='spades'),\n",
       " Card(rank='7', suit='clubs'),\n",
       " Card(rank='7', suit='diamonds'),\n",
       " Card(rank='7', suit='hearts'),\n",
       " Card(rank='7', suit='spades'),\n",
       " Card(rank='8', suit='clubs'),\n",
       " Card(rank='8', suit='diamonds'),\n",
       " Card(rank='8', suit='hearts'),\n",
       " Card(rank='8', suit='spades'),\n",
       " Card(rank='9', suit='clubs'),\n",
       " Card(rank='9', suit='diamonds'),\n",
       " Card(rank='9', suit='hearts'),\n",
       " Card(rank='9', suit='spades'),\n",
       " Card(rank='10', suit='clubs'),\n",
       " Card(rank='10', suit='diamonds'),\n",
       " Card(rank='10', suit='hearts'),\n",
       " Card(rank='10', suit='spades'),\n",
       " Card(rank='J', suit='clubs'),\n",
       " Card(rank='J', suit='diamonds'),\n",
       " Card(rank='J', suit='hearts'),\n",
       " Card(rank='J', suit='spades'),\n",
       " Card(rank='Q', suit='clubs'),\n",
       " Card(rank='Q', suit='diamonds'),\n",
       " Card(rank='Q', suit='hearts'),\n",
       " Card(rank='Q', suit='spades'),\n",
       " Card(rank='K', suit='clubs'),\n",
       " Card(rank='K', suit='diamonds'),\n",
       " Card(rank='K', suit='hearts'),\n",
       " Card(rank='K', suit='spades'),\n",
       " Card(rank='A', suit='clubs'),\n",
       " Card(rank='A', suit='diamonds'),\n",
       " Card(rank='A', suit='hearts'),\n",
       " Card(rank='A', suit='spades')]"
      ]
     },
     "execution_count": 45,
     "metadata": {},
     "output_type": "execute_result"
    }
   ],
   "source": [
    "sorted(deck,key=spades_high)"
   ]
  },
  {
   "cell_type": "code",
   "execution_count": 50,
   "id": "f9793cac-721b-41d6-a947-11b20cd4cfbc",
   "metadata": {},
   "outputs": [],
   "source": [
    "import math\n",
    "\n",
    "class Vector:\n",
    "\n",
    "    def __init__(self, x=0, y=0): self.x, self.y = x, y\n",
    "\n",
    "    def __repr__(self): return f'Vector({self.x!r}, {self.y!r})'\n",
    "\n",
    "    def __abs__(self): return math.hypot(self.x, self.y)\n",
    "\n",
    "    def __bool__(self): return bool(abs(self))\n",
    "\n",
    "    def __add__(self, other): return Vector(self.x+other.x, self.y+other.y)\n",
    "\n",
    "    def __mul__(self, scalar): return Vector(self.x*scalar, self.y*scalar)"
   ]
  },
  {
   "cell_type": "code",
   "execution_count": 51,
   "id": "ebadf00e-ded4-4163-b9d1-08b2d50e71f8",
   "metadata": {},
   "outputs": [
    {
     "data": {
      "text/plain": [
       "Vector(4, 5)"
      ]
     },
     "execution_count": 51,
     "metadata": {},
     "output_type": "execute_result"
    }
   ],
   "source": [
    "v1 = Vector(2, 4)\n",
    "v2 = Vector(2, 1)\n",
    "v1+v2"
   ]
  },
  {
   "cell_type": "code",
   "execution_count": 52,
   "id": "2c3bd05b-e4cd-4804-80d7-61ef46f428ee",
   "metadata": {},
   "outputs": [
    {
     "data": {
      "text/plain": [
       "5.0"
      ]
     },
     "execution_count": 52,
     "metadata": {},
     "output_type": "execute_result"
    }
   ],
   "source": [
    "v = Vector(3, 4)\n",
    "abs(v)"
   ]
  },
  {
   "cell_type": "code",
   "execution_count": 53,
   "id": "2091c386-c090-4db4-b955-447b4e2a98ff",
   "metadata": {},
   "outputs": [
    {
     "data": {
      "text/plain": [
       "Vector(9, 12)"
      ]
     },
     "execution_count": 53,
     "metadata": {},
     "output_type": "execute_result"
    }
   ],
   "source": [
    "v*3"
   ]
  },
  {
   "cell_type": "code",
   "execution_count": null,
   "id": "205b1ab4-a3c2-404b-a1ea-aab393d5b8de",
   "metadata": {},
   "outputs": [],
   "source": []
  }
 ],
 "metadata": {
  "kernelspec": {
   "display_name": "Python 3 (ipykernel)",
   "language": "python",
   "name": "python3"
  },
  "language_info": {
   "codemirror_mode": {
    "name": "ipython",
    "version": 3
   },
   "file_extension": ".py",
   "mimetype": "text/x-python",
   "name": "python",
   "nbconvert_exporter": "python",
   "pygments_lexer": "ipython3",
   "version": "3.12.8"
  }
 },
 "nbformat": 4,
 "nbformat_minor": 5
}
