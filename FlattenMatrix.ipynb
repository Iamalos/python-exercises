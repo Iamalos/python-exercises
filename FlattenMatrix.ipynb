{
 "cells": [
  {
   "cell_type": "markdown",
   "id": "783568dd-762a-4941-9ccc-5f9c0fab4683",
   "metadata": {},
   "source": [
    "# Different ways to flatten the matrix"
   ]
  },
  {
   "cell_type": "code",
   "execution_count": 1,
   "id": "b202f3ea-82b2-481d-99dd-d7672de36749",
   "metadata": {},
   "outputs": [
    {
     "data": {
      "text/plain": [
       "[[9, 3, 8, 3], [4, 5, 2, 8], [6, 4, 3, 1], [1, 0, 4, 5]]"
      ]
     },
     "execution_count": 1,
     "metadata": {},
     "output_type": "execute_result"
    }
   ],
   "source": [
    "m = [\n",
    "    [9, 3, 8, 3],\n",
    "    [4, 5, 2, 8],\n",
    "    [6, 4, 3, 1],\n",
    "    [1, 0, 4, 5],\n",
    "]\n",
    "m"
   ]
  },
  {
   "cell_type": "markdown",
   "id": "0777a9c3-8033-4945-b655-c478949f5251",
   "metadata": {},
   "source": [
    "## Option 1 - loops"
   ]
  },
  {
   "cell_type": "code",
   "execution_count": 2,
   "id": "56b68a1d-f8b9-43e2-812a-f9d93c521772",
   "metadata": {},
   "outputs": [
    {
     "data": {
      "text/plain": [
       "[9, 3, 8, 3, 4, 5, 2, 8, 6, 4, 3, 1, 1, 0, 4, 5]"
      ]
     },
     "execution_count": 2,
     "metadata": {},
     "output_type": "execute_result"
    }
   ],
   "source": [
    "flt = []\n",
    "for l in m:\n",
    "    flt.extend(l)\n",
    "flt"
   ]
  },
  {
   "cell_type": "code",
   "execution_count": 3,
   "id": "da5635fe-22e0-417c-99bc-953dfcbd48e5",
   "metadata": {},
   "outputs": [
    {
     "data": {
      "text/plain": [
       "[9, 3, 8, 3, 4, 5, 2, 8, 6, 4, 3, 1, 1, 0, 4, 5]"
      ]
     },
     "execution_count": 3,
     "metadata": {},
     "output_type": "execute_result"
    }
   ],
   "source": [
    "def flat_loop(m):\n",
    "    flt = []\n",
    "    for l in m:\n",
    "        flt.extend(l)\n",
    "    return flt\n",
    "flat_loop(m)"
   ]
  },
  {
   "cell_type": "markdown",
   "id": "94ac3c63-efb9-40cb-9769-2c2eeda07e77",
   "metadata": {},
   "source": [
    "Instead of using `extend`, we can use list concatination"
   ]
  },
  {
   "cell_type": "code",
   "execution_count": 4,
   "id": "549ec4a5-bb51-4c5a-bfc0-5c8df4029b64",
   "metadata": {},
   "outputs": [
    {
     "data": {
      "text/plain": [
       "[9, 3, 8, 3, 4, 5, 2, 8, 6, 4, 3, 1, 1, 0, 4, 5]"
      ]
     },
     "execution_count": 4,
     "metadata": {},
     "output_type": "execute_result"
    }
   ],
   "source": [
    "def flat_loop_v2(m):\n",
    "    flt = []\n",
    "    for l in m:\n",
    "        flt += l\n",
    "    return flt\n",
    "flat_loop_v2(m)"
   ]
  },
  {
   "cell_type": "markdown",
   "id": "4b2bd7cb-1cf5-44f2-bac8-8d219b00f9d8",
   "metadata": {},
   "source": [
    "## Option 2 - comprehensions"
   ]
  },
  {
   "cell_type": "markdown",
   "id": "ffe2d940-19f0-4e32-bbbf-023d9daa2909",
   "metadata": {},
   "source": [
    "We can either simply use `extend` in a comprehension or use double comprehension"
   ]
  },
  {
   "cell_type": "code",
   "execution_count": 5,
   "id": "39aa51c8-574d-413a-97fb-de7ba175a9b3",
   "metadata": {},
   "outputs": [
    {
     "data": {
      "text/plain": [
       "[9, 3, 8, 3, 4, 5, 2, 8, 6, 4, 3, 1, 1, 0, 4, 5]"
      ]
     },
     "execution_count": 5,
     "metadata": {},
     "output_type": "execute_result"
    }
   ],
   "source": [
    "flt = []\n",
    "[flt.extend(o) for o in m]\n",
    "flt"
   ]
  },
  {
   "cell_type": "code",
   "execution_count": 6,
   "id": "ede16532-9e46-4dc2-a903-8604a872da9c",
   "metadata": {},
   "outputs": [
    {
     "data": {
      "text/plain": [
       "[9, 3, 8, 3, 4, 5, 2, 8, 6, 4, 3, 1, 1, 0, 4, 5]"
      ]
     },
     "execution_count": 6,
     "metadata": {},
     "output_type": "execute_result"
    }
   ],
   "source": [
    "flt = []\n",
    "[o for r in m for o in r]"
   ]
  },
  {
   "cell_type": "code",
   "execution_count": 7,
   "id": "b48b0d26-2b8b-4b91-8ddb-8bc60b3d0ca3",
   "metadata": {
    "scrolled": true
   },
   "outputs": [
    {
     "data": {
      "text/plain": [
       "[9, 3, 8, 3, 4, 5, 2, 8, 6, 4, 3, 1, 1, 0, 4, 5]"
      ]
     },
     "execution_count": 7,
     "metadata": {},
     "output_type": "execute_result"
    }
   ],
   "source": [
    "def flat_lst_comp(m):\n",
    "    flt = []\n",
    "    for l in m:\n",
    "        flt += l\n",
    "    return flt\n",
    "flat_lst_comp(m)"
   ]
  },
  {
   "cell_type": "markdown",
   "id": "4d37dafc-35ff-42a2-954f-e3a3eacfd8c0",
   "metadata": {},
   "source": [
    "## Option 3 - Built-in Tools"
   ]
  },
  {
   "cell_type": "markdown",
   "id": "730c832a-014b-4c28-9dd5-2405f6a371fa",
   "metadata": {},
   "source": [
    "### itertools.chain() "
   ]
  },
  {
   "cell_type": "markdown",
   "id": "b7551a16-6a2d-4c61-a65c-55909fc48280",
   "metadata": {},
   "source": [
    "The `chain()` function chains multiple iterables into a single one."
   ]
  },
  {
   "cell_type": "code",
   "execution_count": 8,
   "id": "3c98b632-1f52-471f-9c39-ea1fa928ce46",
   "metadata": {},
   "outputs": [],
   "source": [
    "from itertools import chain"
   ]
  },
  {
   "cell_type": "code",
   "execution_count": 9,
   "id": "dfa31b7c-07ba-4232-ac66-91003b504381",
   "metadata": {},
   "outputs": [
    {
     "data": {
      "text/plain": [
       "[9, 3, 8, 3, 4, 5, 2, 8, 6, 4, 3, 1, 1, 0, 4, 5]"
      ]
     },
     "execution_count": 9,
     "metadata": {},
     "output_type": "execute_result"
    }
   ],
   "source": [
    "list(chain.from_iterable(m))"
   ]
  },
  {
   "cell_type": "code",
   "execution_count": 10,
   "id": "b0505283-afa4-4156-8bc7-18cf43a15c1e",
   "metadata": {},
   "outputs": [
    {
     "data": {
      "text/plain": [
       "[9, 3, 8, 3, 4, 5, 2, 8, 6, 4, 3, 1, 1, 0, 4, 5]"
      ]
     },
     "execution_count": 10,
     "metadata": {},
     "output_type": "execute_result"
    }
   ],
   "source": [
    "def flat_chain(m):\n",
    "    return list(chain.from_iterable(m))\n",
    "flat_chain(m)"
   ]
  },
  {
   "cell_type": "markdown",
   "id": "66c60739-962d-405b-bf0f-703a9d86ef30",
   "metadata": {},
   "source": [
    "### functool.reduce()"
   ]
  },
  {
   "cell_type": "code",
   "execution_count": 11,
   "id": "9278f3ed-f1b8-4c0c-9b7c-c477664d790b",
   "metadata": {},
   "outputs": [],
   "source": [
    "from functools import reduce"
   ]
  },
  {
   "cell_type": "code",
   "execution_count": 12,
   "id": "bade32b8-59ae-4b78-8a72-036b9394bbed",
   "metadata": {},
   "outputs": [
    {
     "data": {
      "text/plain": [
       "[9, 3, 8, 3, 4, 5, 2, 8, 6, 4, 3, 1, 1, 0, 4, 5]"
      ]
     },
     "execution_count": 12,
     "metadata": {},
     "output_type": "execute_result"
    }
   ],
   "source": [
    "reduce(lambda x,y: x+y, m, [])"
   ]
  },
  {
   "cell_type": "code",
   "execution_count": 13,
   "id": "624ec661-e4a5-4647-9dae-e76609795ec9",
   "metadata": {},
   "outputs": [
    {
     "data": {
      "text/plain": [
       "[9, 3, 8, 3, 4, 5, 2, 8, 6, 4, 3, 1, 1, 0, 4, 5]"
      ]
     },
     "execution_count": 13,
     "metadata": {},
     "output_type": "execute_result"
    }
   ],
   "source": [
    "def flat_reduce(m):\n",
    "    return reduce(lambda x,y: x+y, m, [])\n",
    "flat_reduce(m)"
   ]
  },
  {
   "cell_type": "markdown",
   "id": "09201420-4c25-4365-86aa-24bdcc8f631d",
   "metadata": {},
   "source": [
    "### sum() to concatinate lists"
   ]
  },
  {
   "cell_type": "markdown",
   "id": "30a9e9bf-6f67-481b-bc52-cf23f4844c9c",
   "metadata": {},
   "source": [
    "Non obvious way to concatinate list of lists is to use `sum` with second argument as []"
   ]
  },
  {
   "cell_type": "code",
   "execution_count": 14,
   "id": "65d79b2e-9503-487a-9b0e-d1a8753ecdaa",
   "metadata": {},
   "outputs": [
    {
     "data": {
      "text/plain": [
       "[9, 3, 8, 3, 4, 5, 2, 8, 6, 4, 3, 1, 1, 0, 4, 5]"
      ]
     },
     "execution_count": 14,
     "metadata": {},
     "output_type": "execute_result"
    }
   ],
   "source": [
    "sum(m,[])"
   ]
  },
  {
   "cell_type": "code",
   "execution_count": 15,
   "id": "5484158b-f04f-489d-9663-df97b0bea38b",
   "metadata": {},
   "outputs": [
    {
     "data": {
      "text/plain": [
       "[9, 3, 8, 3, 4, 5, 2, 8, 6, 4, 3, 1, 1, 0, 4, 5]"
      ]
     },
     "execution_count": 15,
     "metadata": {},
     "output_type": "execute_result"
    }
   ],
   "source": [
    "def flat_sum(m):\n",
    "    return sum(m,[])\n",
    "flat_sum(m)"
   ]
  },
  {
   "cell_type": "markdown",
   "id": "a4080179-3801-4d0a-bc45-128dce3eab4f",
   "metadata": {},
   "source": [
    "## Measure performance"
   ]
  },
  {
   "cell_type": "code",
   "execution_count": 16,
   "id": "44a2c858-32d8-41e5-af9d-60bf1a0905e5",
   "metadata": {},
   "outputs": [],
   "source": [
    "from timeit import timeit"
   ]
  },
  {
   "cell_type": "code",
   "execution_count": 20,
   "id": "13b31d13-830c-4f15-b108-2c2f6c9b4c29",
   "metadata": {},
   "outputs": [
    {
     "name": "stdout",
     "output_type": "stream",
     "text": [
      "Time to flatten a 1000x1000 matrix (in milliseconds):\n",
      "\n",
      "flat_lst_comp()..................1.12 ms\n",
      "flat_loop_v2()...................1.22 ms\n",
      "flat_loop()......................1.39 ms\n",
      "flat_chain().....................2.49 ms\n",
      "flat_reduce()..................574.92 ms\n",
      "flat_sum().....................575.79 ms\n"
     ]
    }
   ],
   "source": [
    "SIZE = 1_000\n",
    "TO_MS = 1_000\n",
    "NUM = 10\n",
    "FUNCTIONS = [\n",
    "    \"flat_loop\",\n",
    "    \"flat_loop_v2\",\n",
    "    \"flat_lst_comp\",\n",
    "    \"flat_chain\",\n",
    "    \"flat_reduce\",\n",
    "    \"flat_sum\",\n",
    "]\n",
    "\n",
    "m = [list(range(SIZE))] * SIZE\n",
    "\n",
    "results = {f: timeit(f\"{f}(m)\", globals=globals(), number=NUM) for f in FUNCTIONS}\n",
    "\n",
    "print(f\"Time to flatten a {SIZE}x{SIZE} matrix (in milliseconds):\\n\")\n",
    "for f,t in sorted(results.items(), key=lambda x: x[1]):\n",
    "    print(f\"{f + '()':.<30}{t * TO_MS / NUM:.>7.2f} ms\")"
   ]
  },
  {
   "cell_type": "code",
   "execution_count": 32,
   "id": "e7c1f667-4c0a-4cca-9cfd-17c6d084a2ac",
   "metadata": {},
   "outputs": [
    {
     "name": "stdout",
     "output_type": "stream",
     "text": [
      "......4.00\n"
     ]
    }
   ],
   "source": [
    "print(f\"{4:.>10.2f}\")"
   ]
  },
  {
   "cell_type": "code",
   "execution_count": 33,
   "id": "3df41c48-3540-4fcf-920a-90f1e9eccb3d",
   "metadata": {},
   "outputs": [
    {
     "name": "stdout",
     "output_type": "stream",
     "text": [
      "..11114.00\n"
     ]
    }
   ],
   "source": [
    "print(f\"{11114:.>10.2f}\")"
   ]
  },
  {
   "cell_type": "code",
   "execution_count": 36,
   "id": "836a92b9-de1c-4c69-b095-d26d96966f86",
   "metadata": {},
   "outputs": [
    {
     "name": "stdout",
     "output_type": "stream",
     "text": [
      "111111114.00........\n"
     ]
    }
   ],
   "source": [
    "print(f\"{111111114:.<20.2f}\")"
   ]
  }
 ],
 "metadata": {
  "kernelspec": {
   "display_name": "Python 3 (ipykernel)",
   "language": "python",
   "name": "python3"
  },
  "language_info": {
   "codemirror_mode": {
    "name": "ipython",
    "version": 3
   },
   "file_extension": ".py",
   "mimetype": "text/x-python",
   "name": "python",
   "nbconvert_exporter": "python",
   "pygments_lexer": "ipython3",
   "version": "3.12.8"
  }
 },
 "nbformat": 4,
 "nbformat_minor": 5
}
